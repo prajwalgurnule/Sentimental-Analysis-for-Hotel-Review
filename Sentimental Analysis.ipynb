{
 "cells": [
  {
   "cell_type": "markdown",
   "id": "324449ff",
   "metadata": {
    "id": "324449ff"
   },
   "source": [
    "(1). Importing all the necessary modules:"
   ]
  },
  {
   "cell_type": "code",
   "execution_count": 1,
   "id": "0f5c21ea",
   "metadata": {
    "id": "0f5c21ea"
   },
   "outputs": [],
   "source": [
    "# IMPORTING ALL THE NECESSARY LIBRARIES AND PACKAGES\n",
    "import pandas as pd\n",
    "import numpy as np\n",
    "import matplotlib.pyplot as plt\n",
    "import seaborn as sns\n",
    "import nltk\n",
    "from nltk.corpus import stopwords\n",
    "import string\n",
    "import math\n",
    "from sklearn.feature_extraction.text import CountVectorizer\n",
    "from sklearn.model_selection import train_test_split, cross_val_score\n",
    "from sklearn.neighbors import KNeighborsClassifier\n",
    "from sklearn.metrics import classification_report\n",
    "from sklearn.metrics import confusion_matrix, accuracy_score, roc_auc_score, roc_curve\n",
    "from sklearn.model_selection import GridSearchCV"
   ]
  },
  {
   "cell_type": "markdown",
   "id": "988ae19c",
   "metadata": {
    "id": "988ae19c"
   },
   "source": [
    "(2). Loading and seeing the dataset details:"
   ]
  },
  {
   "cell_type": "code",
   "execution_count": 2,
   "id": "8b8ef684",
   "metadata": {
    "id": "8b8ef684"
   },
   "outputs": [],
   "source": [
    "# LOADING THE DATASET AND SEEING THE DETAILS\n",
    "data = pd.read_csv(\"yelp.csv\")"
   ]
  },
  {
   "cell_type": "code",
   "execution_count": 3,
   "id": "rLbqvr1FE6Li",
   "metadata": {
    "colab": {
     "base_uri": "https://localhost:8080/"
    },
    "id": "rLbqvr1FE6Li",
    "outputId": "708089fa-8a85-43e8-957b-8cb3d86804c4"
   },
   "outputs": [
    {
     "name": "stdout",
     "output_type": "stream",
     "text": [
      "Few dataset entries:\n",
      "              business_id       date               review_id  stars  \\\n",
      "0  9yKzy9PApeiPPOUJEtnvkg  1/26/2011  fWKvX83p0-ka4JS3dc6E5A      5   \n",
      "1  ZRJwVLyzEJq1VAihDhYiow  7/27/2011  IjZ33sJrzXqU-0X6U8NwyA      5   \n",
      "2  6oRAC4uyJCsJl1X0WZpVSA  6/14/2012  IESLBzqUCLdSzSqm0eCSxQ      4   \n",
      "3  _1QQZuf4zZOyFCvXc0o6Vg  5/27/2010  G-WvGaISbqqaMHlNnByodA      5   \n",
      "4  6ozycU1RpktNG2-1BroVtw   1/5/2012  1uJFq2r5QfJG_6ExMRCaGw      5   \n",
      "\n",
      "                                                text    type  \\\n",
      "0  My wife took me here on my birthday for breakf...  review   \n",
      "1  I have no idea why some people give bad review...  review   \n",
      "2  love the gyro plate. Rice is so good and I als...  review   \n",
      "3  Rosie, Dakota, and I LOVE Chaparral Dog Park!!...  review   \n",
      "4  General Manager Scott Petello is a good egg!!!...  review   \n",
      "\n",
      "                  user_id  cool  useful  funny  \n",
      "0  rLtl8ZkDX5vH5nAx9C3q5Q     2       5      0  \n",
      "1  0a2KyEL0d3Yb1V6aivbIuQ     0       0      0  \n",
      "2  0hT2KtfLiobPvh6cDC8JQg     0       1      0  \n",
      "3  uZetl9T0NcROGOyFfughhg     1       2      0  \n",
      "4  vYmM4KTsC8ZfQBg-j5MWkw     0       0      0  \n"
     ]
    }
   ],
   "source": [
    "# SEEING FEW OF THE ENTRIES\n",
    "print(\"Few dataset entries:\")\n",
    "print(data.head())"
   ]
  },
  {
   "cell_type": "code",
   "execution_count": 13,
   "id": "LAZG8yyTEokr",
   "metadata": {
    "colab": {
     "base_uri": "https://localhost:8080/"
    },
    "id": "LAZG8yyTEokr",
    "outputId": "9fdb645c-9c41-4cf5-bc87-ff4989198ea8"
   },
   "outputs": [
    {
     "name": "stdout",
     "output_type": "stream",
     "text": [
      "Shape of the dataset:\n",
      "(10000, 10)\n"
     ]
    }
   ],
   "source": [
    "# SHAPE OF THE DATASET\n",
    "print(\"Shape of the dataset:\")\n",
    "print(data.shape)"
   ]
  },
  {
   "cell_type": "code",
   "execution_count": 14,
   "id": "557deffe",
   "metadata": {
    "colab": {
     "base_uri": "https://localhost:8080/"
    },
    "id": "557deffe",
    "outputId": "9b773dc7-3fea-44b4-9a9d-8ea4c3940e1d"
   },
   "outputs": [
    {
     "name": "stdout",
     "output_type": "stream",
     "text": [
      "Column names:\n",
      "Index(['business_id', 'date', 'review_id', 'stars', 'text', 'type', 'user_id',\n",
      "       'cool', 'useful', 'funny'],\n",
      "      dtype='object')\n"
     ]
    }
   ],
   "source": [
    "# COLUMN NAMES\n",
    "print(\"Column names:\")\n",
    "print(data.columns)"
   ]
  },
  {
   "cell_type": "code",
   "execution_count": 36,
   "id": "3a150037",
   "metadata": {
    "colab": {
     "base_uri": "https://localhost:8080/"
    },
    "id": "3a150037",
    "outputId": "5e0bea8b-8fc8-4569-eb05-8b34b0b9d740"
   },
   "outputs": [
    {
     "name": "stdout",
     "output_type": "stream",
     "text": [
      "<class 'pandas.core.frame.DataFrame'>\n",
      "RangeIndex: 10000 entries, 0 to 9999\n",
      "Data columns (total 11 columns):\n",
      " #   Column       Non-Null Count  Dtype \n",
      "---  ------       --------------  ----- \n",
      " 0   business_id  10000 non-null  object\n",
      " 1   date         10000 non-null  object\n",
      " 2   review_id    10000 non-null  object\n",
      " 3   stars        10000 non-null  int64 \n",
      " 4   text         10000 non-null  object\n",
      " 5   type         10000 non-null  object\n",
      " 6   user_id      10000 non-null  object\n",
      " 7   cool         10000 non-null  int64 \n",
      " 8   useful       10000 non-null  int64 \n",
      " 9   funny        10000 non-null  int64 \n",
      " 10  length       10000 non-null  int64 \n",
      "dtypes: int64(5), object(6)\n",
      "memory usage: 859.5+ KB\n"
     ]
    }
   ],
   "source": [
    "# CONCISE SUMMARY OF DATASET\n",
    "data.info(verbose=None, buf=None, max_cols=None, memory_usage=None)"
   ]
  },
  {
   "cell_type": "code",
   "execution_count": 17,
   "id": "b0wOL9egFcZC",
   "metadata": {
    "colab": {
     "base_uri": "https://localhost:8080/",
     "height": 300
    },
    "id": "b0wOL9egFcZC",
    "outputId": "ad0b2614-e9cb-4017-c118-244a16d87215"
   },
   "outputs": [
    {
     "data": {
      "text/html": [
       "<div>\n",
       "<style scoped>\n",
       "    .dataframe tbody tr th:only-of-type {\n",
       "        vertical-align: middle;\n",
       "    }\n",
       "\n",
       "    .dataframe tbody tr th {\n",
       "        vertical-align: top;\n",
       "    }\n",
       "\n",
       "    .dataframe thead th {\n",
       "        text-align: right;\n",
       "    }\n",
       "</style>\n",
       "<table border=\"1\" class=\"dataframe\">\n",
       "  <thead>\n",
       "    <tr style=\"text-align: right;\">\n",
       "      <th></th>\n",
       "      <th>stars</th>\n",
       "      <th>cool</th>\n",
       "      <th>useful</th>\n",
       "      <th>funny</th>\n",
       "    </tr>\n",
       "  </thead>\n",
       "  <tbody>\n",
       "    <tr>\n",
       "      <th>count</th>\n",
       "      <td>10000.000000</td>\n",
       "      <td>10000.000000</td>\n",
       "      <td>10000.000000</td>\n",
       "      <td>10000.000000</td>\n",
       "    </tr>\n",
       "    <tr>\n",
       "      <th>mean</th>\n",
       "      <td>3.777500</td>\n",
       "      <td>0.876800</td>\n",
       "      <td>1.409300</td>\n",
       "      <td>0.701300</td>\n",
       "    </tr>\n",
       "    <tr>\n",
       "      <th>std</th>\n",
       "      <td>1.214636</td>\n",
       "      <td>2.067861</td>\n",
       "      <td>2.336647</td>\n",
       "      <td>1.907942</td>\n",
       "    </tr>\n",
       "    <tr>\n",
       "      <th>min</th>\n",
       "      <td>1.000000</td>\n",
       "      <td>0.000000</td>\n",
       "      <td>0.000000</td>\n",
       "      <td>0.000000</td>\n",
       "    </tr>\n",
       "    <tr>\n",
       "      <th>25%</th>\n",
       "      <td>3.000000</td>\n",
       "      <td>0.000000</td>\n",
       "      <td>0.000000</td>\n",
       "      <td>0.000000</td>\n",
       "    </tr>\n",
       "    <tr>\n",
       "      <th>50%</th>\n",
       "      <td>4.000000</td>\n",
       "      <td>0.000000</td>\n",
       "      <td>1.000000</td>\n",
       "      <td>0.000000</td>\n",
       "    </tr>\n",
       "    <tr>\n",
       "      <th>75%</th>\n",
       "      <td>5.000000</td>\n",
       "      <td>1.000000</td>\n",
       "      <td>2.000000</td>\n",
       "      <td>1.000000</td>\n",
       "    </tr>\n",
       "    <tr>\n",
       "      <th>max</th>\n",
       "      <td>5.000000</td>\n",
       "      <td>77.000000</td>\n",
       "      <td>76.000000</td>\n",
       "      <td>57.000000</td>\n",
       "    </tr>\n",
       "  </tbody>\n",
       "</table>\n",
       "</div>"
      ],
      "text/plain": [
       "              stars          cool        useful         funny\n",
       "count  10000.000000  10000.000000  10000.000000  10000.000000\n",
       "mean       3.777500      0.876800      1.409300      0.701300\n",
       "std        1.214636      2.067861      2.336647      1.907942\n",
       "min        1.000000      0.000000      0.000000      0.000000\n",
       "25%        3.000000      0.000000      0.000000      0.000000\n",
       "50%        4.000000      0.000000      1.000000      0.000000\n",
       "75%        5.000000      1.000000      2.000000      1.000000\n",
       "max        5.000000     77.000000     76.000000     57.000000"
      ]
     },
     "execution_count": 17,
     "metadata": {},
     "output_type": "execute_result"
    }
   ],
   "source": [
    "# DESCRIPTIVE STATISTICS OF DATASET\n",
    "data.describe()"
   ]
  },
  {
   "cell_type": "code",
   "execution_count": 18,
   "id": "053c6e17",
   "metadata": {
    "colab": {
     "base_uri": "https://localhost:8080/"
    },
    "id": "053c6e17",
    "outputId": "4582f8ca-aaf9-4503-e07e-319e28204de5"
   },
   "outputs": [
    {
     "data": {
      "text/plain": [
       "business_id    0\n",
       "date           0\n",
       "review_id      0\n",
       "stars          0\n",
       "text           0\n",
       "type           0\n",
       "user_id        0\n",
       "cool           0\n",
       "useful         0\n",
       "funny          0\n",
       "dtype: int64"
      ]
     },
     "execution_count": 18,
     "metadata": {},
     "output_type": "execute_result"
    }
   ],
   "source": [
    "# CHECKING FOR NULL VALUES\n",
    "data.isnull().sum()"
   ]
  },
  {
   "cell_type": "markdown",
   "id": "784c2b62",
   "metadata": {
    "id": "784c2b62"
   },
   "source": [
    "(4). Analysis of dataset for feature extraction"
   ]
  },
  {
   "cell_type": "code",
   "execution_count": 19,
   "id": "375dbefe",
   "metadata": {
    "colab": {
     "base_uri": "https://localhost:8080/",
     "height": 354
    },
    "id": "375dbefe",
    "outputId": "80d1637f-d613-45a1-bf5b-28b96f918f65"
   },
   "outputs": [
    {
     "data": {
      "text/html": [
       "<div>\n",
       "<style scoped>\n",
       "    .dataframe tbody tr th:only-of-type {\n",
       "        vertical-align: middle;\n",
       "    }\n",
       "\n",
       "    .dataframe tbody tr th {\n",
       "        vertical-align: top;\n",
       "    }\n",
       "\n",
       "    .dataframe thead th {\n",
       "        text-align: right;\n",
       "    }\n",
       "</style>\n",
       "<table border=\"1\" class=\"dataframe\">\n",
       "  <thead>\n",
       "    <tr style=\"text-align: right;\">\n",
       "      <th></th>\n",
       "      <th>business_id</th>\n",
       "      <th>date</th>\n",
       "      <th>review_id</th>\n",
       "      <th>stars</th>\n",
       "      <th>text</th>\n",
       "      <th>type</th>\n",
       "      <th>user_id</th>\n",
       "      <th>cool</th>\n",
       "      <th>useful</th>\n",
       "      <th>funny</th>\n",
       "      <th>length</th>\n",
       "    </tr>\n",
       "  </thead>\n",
       "  <tbody>\n",
       "    <tr>\n",
       "      <th>0</th>\n",
       "      <td>9yKzy9PApeiPPOUJEtnvkg</td>\n",
       "      <td>1/26/2011</td>\n",
       "      <td>fWKvX83p0-ka4JS3dc6E5A</td>\n",
       "      <td>5</td>\n",
       "      <td>My wife took me here on my birthday for breakf...</td>\n",
       "      <td>review</td>\n",
       "      <td>rLtl8ZkDX5vH5nAx9C3q5Q</td>\n",
       "      <td>2</td>\n",
       "      <td>5</td>\n",
       "      <td>0</td>\n",
       "      <td>889</td>\n",
       "    </tr>\n",
       "    <tr>\n",
       "      <th>1</th>\n",
       "      <td>ZRJwVLyzEJq1VAihDhYiow</td>\n",
       "      <td>7/27/2011</td>\n",
       "      <td>IjZ33sJrzXqU-0X6U8NwyA</td>\n",
       "      <td>5</td>\n",
       "      <td>I have no idea why some people give bad review...</td>\n",
       "      <td>review</td>\n",
       "      <td>0a2KyEL0d3Yb1V6aivbIuQ</td>\n",
       "      <td>0</td>\n",
       "      <td>0</td>\n",
       "      <td>0</td>\n",
       "      <td>1345</td>\n",
       "    </tr>\n",
       "    <tr>\n",
       "      <th>2</th>\n",
       "      <td>6oRAC4uyJCsJl1X0WZpVSA</td>\n",
       "      <td>6/14/2012</td>\n",
       "      <td>IESLBzqUCLdSzSqm0eCSxQ</td>\n",
       "      <td>4</td>\n",
       "      <td>love the gyro plate. Rice is so good and I als...</td>\n",
       "      <td>review</td>\n",
       "      <td>0hT2KtfLiobPvh6cDC8JQg</td>\n",
       "      <td>0</td>\n",
       "      <td>1</td>\n",
       "      <td>0</td>\n",
       "      <td>76</td>\n",
       "    </tr>\n",
       "    <tr>\n",
       "      <th>3</th>\n",
       "      <td>_1QQZuf4zZOyFCvXc0o6Vg</td>\n",
       "      <td>5/27/2010</td>\n",
       "      <td>G-WvGaISbqqaMHlNnByodA</td>\n",
       "      <td>5</td>\n",
       "      <td>Rosie, Dakota, and I LOVE Chaparral Dog Park!!...</td>\n",
       "      <td>review</td>\n",
       "      <td>uZetl9T0NcROGOyFfughhg</td>\n",
       "      <td>1</td>\n",
       "      <td>2</td>\n",
       "      <td>0</td>\n",
       "      <td>419</td>\n",
       "    </tr>\n",
       "    <tr>\n",
       "      <th>4</th>\n",
       "      <td>6ozycU1RpktNG2-1BroVtw</td>\n",
       "      <td>1/5/2012</td>\n",
       "      <td>1uJFq2r5QfJG_6ExMRCaGw</td>\n",
       "      <td>5</td>\n",
       "      <td>General Manager Scott Petello is a good egg!!!...</td>\n",
       "      <td>review</td>\n",
       "      <td>vYmM4KTsC8ZfQBg-j5MWkw</td>\n",
       "      <td>0</td>\n",
       "      <td>0</td>\n",
       "      <td>0</td>\n",
       "      <td>469</td>\n",
       "    </tr>\n",
       "  </tbody>\n",
       "</table>\n",
       "</div>"
      ],
      "text/plain": [
       "              business_id       date               review_id  stars  \\\n",
       "0  9yKzy9PApeiPPOUJEtnvkg  1/26/2011  fWKvX83p0-ka4JS3dc6E5A      5   \n",
       "1  ZRJwVLyzEJq1VAihDhYiow  7/27/2011  IjZ33sJrzXqU-0X6U8NwyA      5   \n",
       "2  6oRAC4uyJCsJl1X0WZpVSA  6/14/2012  IESLBzqUCLdSzSqm0eCSxQ      4   \n",
       "3  _1QQZuf4zZOyFCvXc0o6Vg  5/27/2010  G-WvGaISbqqaMHlNnByodA      5   \n",
       "4  6ozycU1RpktNG2-1BroVtw   1/5/2012  1uJFq2r5QfJG_6ExMRCaGw      5   \n",
       "\n",
       "                                                text    type  \\\n",
       "0  My wife took me here on my birthday for breakf...  review   \n",
       "1  I have no idea why some people give bad review...  review   \n",
       "2  love the gyro plate. Rice is so good and I als...  review   \n",
       "3  Rosie, Dakota, and I LOVE Chaparral Dog Park!!...  review   \n",
       "4  General Manager Scott Petello is a good egg!!!...  review   \n",
       "\n",
       "                  user_id  cool  useful  funny  length  \n",
       "0  rLtl8ZkDX5vH5nAx9C3q5Q     2       5      0     889  \n",
       "1  0a2KyEL0d3Yb1V6aivbIuQ     0       0      0    1345  \n",
       "2  0hT2KtfLiobPvh6cDC8JQg     0       1      0      76  \n",
       "3  uZetl9T0NcROGOyFfughhg     1       2      0     419  \n",
       "4  vYmM4KTsC8ZfQBg-j5MWkw     0       0      0     469  "
      ]
     },
     "execution_count": 19,
     "metadata": {},
     "output_type": "execute_result"
    }
   ],
   "source": [
    "#CREATING A NEW COLUMN IN THE DATASET FOR THE NUMBER OF WORDS IN THE REVIEW\n",
    "data['length'] = data['text'].apply(len)\n",
    "data.head()"
   ]
  },
  {
   "cell_type": "code",
   "execution_count": 20,
   "id": "q07PBj1YdPWM",
   "metadata": {
    "colab": {
     "base_uri": "https://localhost:8080/"
    },
    "id": "q07PBj1YdPWM",
    "outputId": "bfe2c503-3f43-4afb-97b3-73cefc11bd78"
   },
   "outputs": [
    {
     "data": {
      "text/plain": [
       "10000"
      ]
     },
     "execution_count": 20,
     "metadata": {},
     "output_type": "execute_result"
    }
   ],
   "source": [
    "#TOTAL REVIEW COUNT \n",
    "data['stars'].count()"
   ]
  },
  {
   "cell_type": "code",
   "execution_count": 21,
   "id": "vkN5uI1rdRxj",
   "metadata": {
    "colab": {
     "base_uri": "https://localhost:8080/"
    },
    "id": "vkN5uI1rdRxj",
    "outputId": "9e67c2c9-2466-4808-ea05-e66a4f7c2855"
   },
   "outputs": [
    {
     "data": {
      "text/plain": [
       "array([5, 4, 2, 3, 1], dtype=int64)"
      ]
     },
     "execution_count": 21,
     "metadata": {},
     "output_type": "execute_result"
    }
   ],
   "source": [
    "# UNIQUE STARS RATING\n",
    "data.stars.unique()"
   ]
  },
  {
   "cell_type": "code",
   "execution_count": 22,
   "id": "FVDbS6zddSLK",
   "metadata": {
    "colab": {
     "base_uri": "https://localhost:8080/"
    },
    "id": "FVDbS6zddSLK",
    "outputId": "82588491-4674-4ea6-bfe3-8727cbed0d00"
   },
   "outputs": [
    {
     "data": {
      "text/plain": [
       "stars\n",
       "4    3526\n",
       "5    3337\n",
       "3    1461\n",
       "2     927\n",
       "1     749\n",
       "Name: count, dtype: int64"
      ]
     },
     "execution_count": 22,
     "metadata": {},
     "output_type": "execute_result"
    }
   ],
   "source": [
    "# INDIVIDUAL STARS COUNT\n",
    "data[\"stars\"].value_counts()"
   ]
  },
  {
   "cell_type": "code",
   "execution_count": 23,
   "id": "IgX19C8JvAAY",
   "metadata": {
    "colab": {
     "base_uri": "https://localhost:8080/"
    },
    "id": "IgX19C8JvAAY",
    "outputId": "7a52f258-c0c7-4f3d-b1b4-1073f7f90c0f"
   },
   "outputs": [
    {
     "data": {
      "text/plain": [
       "array(['9yKzy9PApeiPPOUJEtnvkg', 'ZRJwVLyzEJq1VAihDhYiow',\n",
       "       '6oRAC4uyJCsJl1X0WZpVSA', ..., 'qhIlkXgcC4j34lNTIqu9WA',\n",
       "       'JOZqBKIOB8WEBAWm7v1JFA', 'f96lWMIAUhYIYy9gOktivQ'], dtype=object)"
      ]
     },
     "execution_count": 23,
     "metadata": {},
     "output_type": "execute_result"
    }
   ],
   "source": [
    "# FINDING COUNT OF UNIQUE RESTAURANTS IN THE DATASET\n",
    "data.business_id.unique()"
   ]
  },
  {
   "cell_type": "code",
   "execution_count": 24,
   "id": "yLJRJHkiu_23",
   "metadata": {
    "colab": {
     "base_uri": "https://localhost:8080/"
    },
    "id": "yLJRJHkiu_23",
    "outputId": "78972217-91af-4430-c24e-be47377e6403"
   },
   "outputs": [
    {
     "data": {
      "text/plain": [
       "0       9yKzy9PApeiPPOUJEtnvkg\n",
       "1       ZRJwVLyzEJq1VAihDhYiow\n",
       "2       6oRAC4uyJCsJl1X0WZpVSA\n",
       "3       _1QQZuf4zZOyFCvXc0o6Vg\n",
       "4       6ozycU1RpktNG2-1BroVtw\n",
       "                 ...          \n",
       "9995    VY_tvNUCCXGXQeSvJl757Q\n",
       "9996    EKzMHI1tip8rC1-ZAy64yg\n",
       "9997    53YGfwmbW73JhFiemNeyzQ\n",
       "9998    9SKdOoDHcFoxK5ZtsgHJoA\n",
       "9999    pF7uRzygyZsltbmVpjIyvw\n",
       "Name: business_id, Length: 10000, dtype: object"
      ]
     },
     "execution_count": 24,
     "metadata": {},
     "output_type": "execute_result"
    }
   ],
   "source": [
    "data_business = data[\"business_id\"]\n",
    "data_business"
   ]
  },
  {
   "cell_type": "code",
   "execution_count": 25,
   "id": "DYewwrHou_mf",
   "metadata": {
    "colab": {
     "base_uri": "https://localhost:8080/"
    },
    "id": "DYewwrHou_mf",
    "outputId": "1990fcf0-d04f-4616-9ba6-a817e8feb0c1"
   },
   "outputs": [
    {
     "data": {
      "text/plain": [
       "count      10000\n",
       "unique      4117\n",
       "top       #NAME?\n",
       "freq         176\n",
       "Name: business_id, dtype: object"
      ]
     },
     "execution_count": 25,
     "metadata": {},
     "output_type": "execute_result"
    }
   ],
   "source": [
    "data_business.describe()"
   ]
  },
  {
   "cell_type": "code",
   "execution_count": 26,
   "id": "AUg1fBGLvhH2",
   "metadata": {
    "colab": {
     "base_uri": "https://localhost:8080/"
    },
    "id": "AUg1fBGLvhH2",
    "outputId": "e2cb56a0-bbda-45eb-bbfe-fbb011bc3ad6"
   },
   "outputs": [
    {
     "data": {
      "text/plain": [
       "business_id\n",
       "#NAME?                    176\n",
       "ntN85eu27C04nwyPa8IHtw     37\n",
       "JokKtdXU7zXHcr20Lrk29A     37\n",
       "hW0Ne_HTHEAgGF1rAdmR-g     34\n",
       "WNy1uzcmm_UHmTyR--o5IA     32\n",
       "                         ... \n",
       "dnfSnHElLXntC6lWjomWPw      1\n",
       "7KB3eQJASverUUah-I_0ZA      1\n",
       "EVR7ss3gCgRmXZT7TvZgzA      1\n",
       "u3_amLppmBrfBYUfaI0nVw      1\n",
       "f96lWMIAUhYIYy9gOktivQ      1\n",
       "Name: count, Length: 4117, dtype: int64"
      ]
     },
     "execution_count": 26,
     "metadata": {},
     "output_type": "execute_result"
    }
   ],
   "source": [
    "data[\"business_id\"].value_counts()"
   ]
  },
  {
   "cell_type": "code",
   "execution_count": 27,
   "id": "QiELrmx1vyW9",
   "metadata": {
    "id": "QiELrmx1vyW9"
   },
   "outputs": [],
   "source": [
    "# Finding TOP 10 RESTAURANTS IN THE DATASET BY STARS RATING\n",
    "business_agg=data.groupby('business_id').agg({'review_id':['count'],'date':['min','max'],\n",
    "                                'useful':['sum'],'funny':['sum'],'cool':['sum'],\n",
    "                               'stars':['mean']})"
   ]
  },
  {
   "cell_type": "code",
   "execution_count": 28,
   "id": "oE_axcnlvyy-",
   "metadata": {
    "colab": {
     "base_uri": "https://localhost:8080/",
     "height": 504
    },
    "id": "oE_axcnlvyy-",
    "outputId": "116e7379-2e25-4ae0-cd2f-7e1448e5db20"
   },
   "outputs": [
    {
     "name": "stdout",
     "output_type": "stream",
     "text": [
      "                                     Restaurants in Yelp by Stars\n"
     ]
    },
    {
     "data": {
      "text/html": [
       "<div>\n",
       "<style scoped>\n",
       "    .dataframe tbody tr th:only-of-type {\n",
       "        vertical-align: middle;\n",
       "    }\n",
       "\n",
       "    .dataframe tbody tr th {\n",
       "        vertical-align: top;\n",
       "    }\n",
       "\n",
       "    .dataframe thead tr th {\n",
       "        text-align: left;\n",
       "    }\n",
       "\n",
       "    .dataframe thead tr:last-of-type th {\n",
       "        text-align: right;\n",
       "    }\n",
       "</style>\n",
       "<table border=\"1\" class=\"dataframe\">\n",
       "  <thead>\n",
       "    <tr>\n",
       "      <th></th>\n",
       "      <th>review_id</th>\n",
       "      <th colspan=\"2\" halign=\"left\">date</th>\n",
       "      <th>useful</th>\n",
       "      <th>funny</th>\n",
       "      <th>cool</th>\n",
       "      <th>stars</th>\n",
       "    </tr>\n",
       "    <tr>\n",
       "      <th></th>\n",
       "      <th>count</th>\n",
       "      <th>min</th>\n",
       "      <th>max</th>\n",
       "      <th>sum</th>\n",
       "      <th>sum</th>\n",
       "      <th>sum</th>\n",
       "      <th>mean</th>\n",
       "    </tr>\n",
       "    <tr>\n",
       "      <th>business_id</th>\n",
       "      <th></th>\n",
       "      <th></th>\n",
       "      <th></th>\n",
       "      <th></th>\n",
       "      <th></th>\n",
       "      <th></th>\n",
       "      <th></th>\n",
       "    </tr>\n",
       "  </thead>\n",
       "  <tbody>\n",
       "    <tr>\n",
       "      <th>UvK70rJjOGLx44Q4qsWz7Q</th>\n",
       "      <td>1</td>\n",
       "      <td>9/23/2008</td>\n",
       "      <td>9/23/2008</td>\n",
       "      <td>6</td>\n",
       "      <td>4</td>\n",
       "      <td>6</td>\n",
       "      <td>5.0</td>\n",
       "    </tr>\n",
       "    <tr>\n",
       "      <th>R5TyRxY46mrSKU3-42-Orw</th>\n",
       "      <td>1</td>\n",
       "      <td>2/9/2010</td>\n",
       "      <td>2/9/2010</td>\n",
       "      <td>0</td>\n",
       "      <td>0</td>\n",
       "      <td>0</td>\n",
       "      <td>5.0</td>\n",
       "    </tr>\n",
       "    <tr>\n",
       "      <th>Rg4dHuszzF0Mb4yqtoHSiA</th>\n",
       "      <td>1</td>\n",
       "      <td>12/17/2012</td>\n",
       "      <td>12/17/2012</td>\n",
       "      <td>1</td>\n",
       "      <td>1</td>\n",
       "      <td>1</td>\n",
       "      <td>5.0</td>\n",
       "    </tr>\n",
       "    <tr>\n",
       "      <th>RdzsxC8Q3ybBcJohpywSwQ</th>\n",
       "      <td>1</td>\n",
       "      <td>7/2/2008</td>\n",
       "      <td>7/2/2008</td>\n",
       "      <td>0</td>\n",
       "      <td>1</td>\n",
       "      <td>2</td>\n",
       "      <td>5.0</td>\n",
       "    </tr>\n",
       "    <tr>\n",
       "      <th>RWkNYaST4pHM2ZrRFGFcKA</th>\n",
       "      <td>1</td>\n",
       "      <td>7/12/2010</td>\n",
       "      <td>7/12/2010</td>\n",
       "      <td>1</td>\n",
       "      <td>1</td>\n",
       "      <td>1</td>\n",
       "      <td>5.0</td>\n",
       "    </tr>\n",
       "    <tr>\n",
       "      <th>...</th>\n",
       "      <td>...</td>\n",
       "      <td>...</td>\n",
       "      <td>...</td>\n",
       "      <td>...</td>\n",
       "      <td>...</td>\n",
       "      <td>...</td>\n",
       "      <td>...</td>\n",
       "    </tr>\n",
       "    <tr>\n",
       "      <th>u3HMalNH-xBgZUXjnH3O6Q</th>\n",
       "      <td>1</td>\n",
       "      <td>3/19/2010</td>\n",
       "      <td>3/19/2010</td>\n",
       "      <td>0</td>\n",
       "      <td>0</td>\n",
       "      <td>0</td>\n",
       "      <td>1.0</td>\n",
       "    </tr>\n",
       "    <tr>\n",
       "      <th>u2hGxSbpIOZZ3KliIELuTQ</th>\n",
       "      <td>1</td>\n",
       "      <td>1/29/2009</td>\n",
       "      <td>1/29/2009</td>\n",
       "      <td>0</td>\n",
       "      <td>0</td>\n",
       "      <td>0</td>\n",
       "      <td>1.0</td>\n",
       "    </tr>\n",
       "    <tr>\n",
       "      <th>b3zJrtYqVg4ZXmiLN8V84w</th>\n",
       "      <td>1</td>\n",
       "      <td>3/4/2012</td>\n",
       "      <td>3/4/2012</td>\n",
       "      <td>0</td>\n",
       "      <td>0</td>\n",
       "      <td>0</td>\n",
       "      <td>1.0</td>\n",
       "    </tr>\n",
       "    <tr>\n",
       "      <th>MEOC6ng0jPhQOX_BzEzf_w</th>\n",
       "      <td>1</td>\n",
       "      <td>1/28/2010</td>\n",
       "      <td>1/28/2010</td>\n",
       "      <td>0</td>\n",
       "      <td>0</td>\n",
       "      <td>0</td>\n",
       "      <td>1.0</td>\n",
       "    </tr>\n",
       "    <tr>\n",
       "      <th>czOxS1z2MGzPXNP3W1d0Yw</th>\n",
       "      <td>1</td>\n",
       "      <td>10/30/2010</td>\n",
       "      <td>10/30/2010</td>\n",
       "      <td>0</td>\n",
       "      <td>0</td>\n",
       "      <td>0</td>\n",
       "      <td>1.0</td>\n",
       "    </tr>\n",
       "  </tbody>\n",
       "</table>\n",
       "<p>4117 rows × 7 columns</p>\n",
       "</div>"
      ],
      "text/plain": [
       "                       review_id        date             useful funny cool  \\\n",
       "                           count         min         max    sum   sum  sum   \n",
       "business_id                                                                  \n",
       "UvK70rJjOGLx44Q4qsWz7Q         1   9/23/2008   9/23/2008      6     4    6   \n",
       "R5TyRxY46mrSKU3-42-Orw         1    2/9/2010    2/9/2010      0     0    0   \n",
       "Rg4dHuszzF0Mb4yqtoHSiA         1  12/17/2012  12/17/2012      1     1    1   \n",
       "RdzsxC8Q3ybBcJohpywSwQ         1    7/2/2008    7/2/2008      0     1    2   \n",
       "RWkNYaST4pHM2ZrRFGFcKA         1   7/12/2010   7/12/2010      1     1    1   \n",
       "...                          ...         ...         ...    ...   ...  ...   \n",
       "u3HMalNH-xBgZUXjnH3O6Q         1   3/19/2010   3/19/2010      0     0    0   \n",
       "u2hGxSbpIOZZ3KliIELuTQ         1   1/29/2009   1/29/2009      0     0    0   \n",
       "b3zJrtYqVg4ZXmiLN8V84w         1    3/4/2012    3/4/2012      0     0    0   \n",
       "MEOC6ng0jPhQOX_BzEzf_w         1   1/28/2010   1/28/2010      0     0    0   \n",
       "czOxS1z2MGzPXNP3W1d0Yw         1  10/30/2010  10/30/2010      0     0    0   \n",
       "\n",
       "                       stars  \n",
       "                        mean  \n",
       "business_id                   \n",
       "UvK70rJjOGLx44Q4qsWz7Q   5.0  \n",
       "R5TyRxY46mrSKU3-42-Orw   5.0  \n",
       "Rg4dHuszzF0Mb4yqtoHSiA   5.0  \n",
       "RdzsxC8Q3ybBcJohpywSwQ   5.0  \n",
       "RWkNYaST4pHM2ZrRFGFcKA   5.0  \n",
       "...                      ...  \n",
       "u3HMalNH-xBgZUXjnH3O6Q   1.0  \n",
       "u2hGxSbpIOZZ3KliIELuTQ   1.0  \n",
       "b3zJrtYqVg4ZXmiLN8V84w   1.0  \n",
       "MEOC6ng0jPhQOX_BzEzf_w   1.0  \n",
       "czOxS1z2MGzPXNP3W1d0Yw   1.0  \n",
       "\n",
       "[4117 rows x 7 columns]"
      ]
     },
     "execution_count": 28,
     "metadata": {},
     "output_type": "execute_result"
    }
   ],
   "source": [
    "business_agg=business_agg.sort_values([('stars','mean')],ascending=False)\n",
    "print(\"                                     Restaurants in Yelp by Stars\")\n",
    "business_agg"
   ]
  },
  {
   "cell_type": "code",
   "execution_count": 29,
   "id": "sNsEOrBkw7YF",
   "metadata": {
    "colab": {
     "base_uri": "https://localhost:8080/",
     "height": 443
    },
    "id": "sNsEOrBkw7YF",
    "outputId": "9dbd9f17-0c0b-49d2-f07f-4194c03c9177"
   },
   "outputs": [
    {
     "name": "stdout",
     "output_type": "stream",
     "text": [
      "                                     Top 10 Restaurants in Yelp by reviews\n"
     ]
    },
    {
     "data": {
      "text/html": [
       "<div>\n",
       "<style scoped>\n",
       "    .dataframe tbody tr th:only-of-type {\n",
       "        vertical-align: middle;\n",
       "    }\n",
       "\n",
       "    .dataframe tbody tr th {\n",
       "        vertical-align: top;\n",
       "    }\n",
       "\n",
       "    .dataframe thead tr th {\n",
       "        text-align: left;\n",
       "    }\n",
       "\n",
       "    .dataframe thead tr:last-of-type th {\n",
       "        text-align: right;\n",
       "    }\n",
       "</style>\n",
       "<table border=\"1\" class=\"dataframe\">\n",
       "  <thead>\n",
       "    <tr>\n",
       "      <th></th>\n",
       "      <th>review_id</th>\n",
       "      <th colspan=\"2\" halign=\"left\">date</th>\n",
       "      <th>useful</th>\n",
       "      <th>funny</th>\n",
       "      <th>cool</th>\n",
       "      <th>stars</th>\n",
       "    </tr>\n",
       "    <tr>\n",
       "      <th></th>\n",
       "      <th>count</th>\n",
       "      <th>min</th>\n",
       "      <th>max</th>\n",
       "      <th>sum</th>\n",
       "      <th>sum</th>\n",
       "      <th>sum</th>\n",
       "      <th>mean</th>\n",
       "    </tr>\n",
       "    <tr>\n",
       "      <th>business_id</th>\n",
       "      <th></th>\n",
       "      <th></th>\n",
       "      <th></th>\n",
       "      <th></th>\n",
       "      <th></th>\n",
       "      <th></th>\n",
       "      <th></th>\n",
       "    </tr>\n",
       "  </thead>\n",
       "  <tbody>\n",
       "    <tr>\n",
       "      <th>#NAME?</th>\n",
       "      <td>176</td>\n",
       "      <td>1/1/2011</td>\n",
       "      <td>9/8/2010</td>\n",
       "      <td>247</td>\n",
       "      <td>100</td>\n",
       "      <td>152</td>\n",
       "      <td>3.789773</td>\n",
       "    </tr>\n",
       "    <tr>\n",
       "      <th>ntN85eu27C04nwyPa8IHtw</th>\n",
       "      <td>37</td>\n",
       "      <td>1/1/2011</td>\n",
       "      <td>9/3/2012</td>\n",
       "      <td>37</td>\n",
       "      <td>16</td>\n",
       "      <td>24</td>\n",
       "      <td>3.945946</td>\n",
       "    </tr>\n",
       "    <tr>\n",
       "      <th>JokKtdXU7zXHcr20Lrk29A</th>\n",
       "      <td>37</td>\n",
       "      <td>1/14/2008</td>\n",
       "      <td>9/5/2008</td>\n",
       "      <td>34</td>\n",
       "      <td>17</td>\n",
       "      <td>26</td>\n",
       "      <td>4.513514</td>\n",
       "    </tr>\n",
       "    <tr>\n",
       "      <th>hW0Ne_HTHEAgGF1rAdmR-g</th>\n",
       "      <td>34</td>\n",
       "      <td>1/17/2012</td>\n",
       "      <td>9/9/2010</td>\n",
       "      <td>67</td>\n",
       "      <td>66</td>\n",
       "      <td>50</td>\n",
       "      <td>3.264706</td>\n",
       "    </tr>\n",
       "    <tr>\n",
       "      <th>WNy1uzcmm_UHmTyR--o5IA</th>\n",
       "      <td>32</td>\n",
       "      <td>1/19/2011</td>\n",
       "      <td>9/5/2012</td>\n",
       "      <td>45</td>\n",
       "      <td>21</td>\n",
       "      <td>30</td>\n",
       "      <td>4.343750</td>\n",
       "    </tr>\n",
       "    <tr>\n",
       "      <th>VVeogjZya58oiTxK7qUjAQ</th>\n",
       "      <td>31</td>\n",
       "      <td>1/12/2011</td>\n",
       "      <td>9/6/2011</td>\n",
       "      <td>79</td>\n",
       "      <td>30</td>\n",
       "      <td>47</td>\n",
       "      <td>4.193548</td>\n",
       "    </tr>\n",
       "    <tr>\n",
       "      <th>V1nEpIRmEa1768oj_tuxeQ</th>\n",
       "      <td>30</td>\n",
       "      <td>1/2/2010</td>\n",
       "      <td>9/5/2012</td>\n",
       "      <td>45</td>\n",
       "      <td>20</td>\n",
       "      <td>37</td>\n",
       "      <td>4.333333</td>\n",
       "    </tr>\n",
       "    <tr>\n",
       "      <th>SDwYQ6eSu1htn8vHWv128g</th>\n",
       "      <td>25</td>\n",
       "      <td>1/19/2012</td>\n",
       "      <td>9/20/2012</td>\n",
       "      <td>27</td>\n",
       "      <td>11</td>\n",
       "      <td>16</td>\n",
       "      <td>4.240000</td>\n",
       "    </tr>\n",
       "    <tr>\n",
       "      <th>uKSX1n1RoAzGq4bV8GPHVg</th>\n",
       "      <td>25</td>\n",
       "      <td>1/16/2011</td>\n",
       "      <td>9/13/2011</td>\n",
       "      <td>29</td>\n",
       "      <td>19</td>\n",
       "      <td>10</td>\n",
       "      <td>3.920000</td>\n",
       "    </tr>\n",
       "    <tr>\n",
       "      <th>QnAzW6KMSciUcuJ20oI3Bw</th>\n",
       "      <td>24</td>\n",
       "      <td>1/11/2010</td>\n",
       "      <td>9/30/2012</td>\n",
       "      <td>28</td>\n",
       "      <td>9</td>\n",
       "      <td>18</td>\n",
       "      <td>4.166667</td>\n",
       "    </tr>\n",
       "  </tbody>\n",
       "</table>\n",
       "</div>"
      ],
      "text/plain": [
       "                       review_id       date            useful funny cool  \\\n",
       "                           count        min        max    sum   sum  sum   \n",
       "business_id                                                                \n",
       "#NAME?                       176   1/1/2011   9/8/2010    247   100  152   \n",
       "ntN85eu27C04nwyPa8IHtw        37   1/1/2011   9/3/2012     37    16   24   \n",
       "JokKtdXU7zXHcr20Lrk29A        37  1/14/2008   9/5/2008     34    17   26   \n",
       "hW0Ne_HTHEAgGF1rAdmR-g        34  1/17/2012   9/9/2010     67    66   50   \n",
       "WNy1uzcmm_UHmTyR--o5IA        32  1/19/2011   9/5/2012     45    21   30   \n",
       "VVeogjZya58oiTxK7qUjAQ        31  1/12/2011   9/6/2011     79    30   47   \n",
       "V1nEpIRmEa1768oj_tuxeQ        30   1/2/2010   9/5/2012     45    20   37   \n",
       "SDwYQ6eSu1htn8vHWv128g        25  1/19/2012  9/20/2012     27    11   16   \n",
       "uKSX1n1RoAzGq4bV8GPHVg        25  1/16/2011  9/13/2011     29    19   10   \n",
       "QnAzW6KMSciUcuJ20oI3Bw        24  1/11/2010  9/30/2012     28     9   18   \n",
       "\n",
       "                           stars  \n",
       "                            mean  \n",
       "business_id                       \n",
       "#NAME?                  3.789773  \n",
       "ntN85eu27C04nwyPa8IHtw  3.945946  \n",
       "JokKtdXU7zXHcr20Lrk29A  4.513514  \n",
       "hW0Ne_HTHEAgGF1rAdmR-g  3.264706  \n",
       "WNy1uzcmm_UHmTyR--o5IA  4.343750  \n",
       "VVeogjZya58oiTxK7qUjAQ  4.193548  \n",
       "V1nEpIRmEa1768oj_tuxeQ  4.333333  \n",
       "SDwYQ6eSu1htn8vHWv128g  4.240000  \n",
       "uKSX1n1RoAzGq4bV8GPHVg  3.920000  \n",
       "QnAzW6KMSciUcuJ20oI3Bw  4.166667  "
      ]
     },
     "execution_count": 29,
     "metadata": {},
     "output_type": "execute_result"
    }
   ],
   "source": [
    "# Finding TOP 10 RESTAURANTS IN THE DATASET BY REVIEW COUNT\n",
    "business_agg=business_agg.sort_values([('review_id','count')],ascending=False)\n",
    "print(\"                                     Top 10 Restaurants in Yelp by reviews\")\n",
    "business_agg.head(10)"
   ]
  },
  {
   "cell_type": "code",
   "execution_count": 30,
   "id": "YfBl5Hshd1Ra",
   "metadata": {
    "colab": {
     "base_uri": "https://localhost:8080/"
    },
    "id": "YfBl5Hshd1Ra",
    "outputId": "1395e815-a44d-405a-aa9a-40438a352fc4"
   },
   "outputs": [
    {
     "data": {
      "text/plain": [
       "array(['rLtl8ZkDX5vH5nAx9C3q5Q', '0a2KyEL0d3Yb1V6aivbIuQ',\n",
       "       '0hT2KtfLiobPvh6cDC8JQg', ..., 'gGbN1aKQHMgfQZkqlsuwzg',\n",
       "       '0lyVoNazXa20WzUyZPLaQQ', 'KSBFytcdjPKZgXKQnYQdkA'], dtype=object)"
      ]
     },
     "execution_count": 30,
     "metadata": {},
     "output_type": "execute_result"
    }
   ],
   "source": [
    "# FINDING COUNT OF UNIQUE USERS IN THE DATASET\n",
    "data.user_id.unique()"
   ]
  },
  {
   "cell_type": "code",
   "execution_count": 31,
   "id": "AH1Pf0Tzd1IS",
   "metadata": {
    "colab": {
     "base_uri": "https://localhost:8080/"
    },
    "id": "AH1Pf0Tzd1IS",
    "outputId": "5d70cd3b-ea14-4506-d0da-dccf857b0aef"
   },
   "outputs": [
    {
     "data": {
      "text/plain": [
       "0       rLtl8ZkDX5vH5nAx9C3q5Q\n",
       "1       0a2KyEL0d3Yb1V6aivbIuQ\n",
       "2       0hT2KtfLiobPvh6cDC8JQg\n",
       "3       uZetl9T0NcROGOyFfughhg\n",
       "4       vYmM4KTsC8ZfQBg-j5MWkw\n",
       "                 ...          \n",
       "9995    _eqQoPtQ3e3UxLE4faT6ow\n",
       "9996    ROru4uk5SaYc3rg8IU7SQw\n",
       "9997    gGbN1aKQHMgfQZkqlsuwzg\n",
       "9998    0lyVoNazXa20WzUyZPLaQQ\n",
       "9999    KSBFytcdjPKZgXKQnYQdkA\n",
       "Name: user_id, Length: 10000, dtype: object"
      ]
     },
     "execution_count": 31,
     "metadata": {},
     "output_type": "execute_result"
    }
   ],
   "source": [
    "data_user = data[\"user_id\"]\n",
    "data_user"
   ]
  },
  {
   "cell_type": "code",
   "execution_count": 32,
   "id": "XjU2A73Hd0-6",
   "metadata": {
    "colab": {
     "base_uri": "https://localhost:8080/"
    },
    "id": "XjU2A73Hd0-6",
    "outputId": "6ba2ee4b-b3f6-4ec7-b4e1-091b0b201f95"
   },
   "outputs": [
    {
     "data": {
      "text/plain": [
       "count      10000\n",
       "unique      6325\n",
       "top       #NAME?\n",
       "freq         121\n",
       "Name: user_id, dtype: object"
      ]
     },
     "execution_count": 32,
     "metadata": {},
     "output_type": "execute_result"
    }
   ],
   "source": [
    "data_user.describe()"
   ]
  },
  {
   "cell_type": "code",
   "execution_count": 33,
   "id": "6BORksf_d00Z",
   "metadata": {
    "colab": {
     "base_uri": "https://localhost:8080/"
    },
    "id": "6BORksf_d00Z",
    "outputId": "8c6945f7-d122-4a30-8032-4e70dd36b53e"
   },
   "outputs": [
    {
     "data": {
      "text/plain": [
       "user_id\n",
       "#NAME?                    121\n",
       "fczQCSmaWF78toLEmb0Zsw     38\n",
       "0CMz8YaO3f8xu4KqQgKb9Q     25\n",
       "90a6z--_CUrl84aCzZyPsg     22\n",
       "4ozupHULqGyO42s3zNUzOQ     18\n",
       "                         ... \n",
       "0SweAOS_ChLQVv7pb51J4Q      1\n",
       "UcdsKXNPHmVzi5qPQSCutg      1\n",
       "x1PxZJvRo4tu-ruOXa5MqA      1\n",
       "8UN5ojieloDD4WvohQo77g      1\n",
       "KSBFytcdjPKZgXKQnYQdkA      1\n",
       "Name: count, Length: 6325, dtype: int64"
      ]
     },
     "execution_count": 33,
     "metadata": {},
     "output_type": "execute_result"
    }
   ],
   "source": [
    "data[\"user_id\"].value_counts()"
   ]
  },
  {
   "cell_type": "code",
   "execution_count": 26,
   "id": "NQHzhLh5d0op",
   "metadata": {
    "id": "NQHzhLh5d0op"
   },
   "outputs": [],
   "source": [
    "# Finding TOP 10 USERS IN THE DATASET\n",
    "user_agg=data.groupby('user_id').agg({'review_id':['count'],'date':['min','max'],\n",
    "                                'useful':['sum'],'funny':['sum'],'cool':['sum'],\n",
    "                               'stars':['mean']})"
   ]
  },
  {
   "cell_type": "code",
   "execution_count": 27,
   "id": "LFLYtK5td0La",
   "metadata": {
    "colab": {
     "base_uri": "https://localhost:8080/",
     "height": 443
    },
    "id": "LFLYtK5td0La",
    "outputId": "4777793d-0f49-482e-8a6d-a25e3bd95c25"
   },
   "outputs": [
    {
     "name": "stdout",
     "output_type": "stream",
     "text": [
      "                                     Top 10 Users in Yelp\n"
     ]
    },
    {
     "data": {
      "text/html": [
       "\n",
       "  <div id=\"df-844efb26-92a3-4567-a93c-57da2c27db20\">\n",
       "    <div class=\"colab-df-container\">\n",
       "      <div>\n",
       "<style scoped>\n",
       "    .dataframe tbody tr th:only-of-type {\n",
       "        vertical-align: middle;\n",
       "    }\n",
       "\n",
       "    .dataframe tbody tr th {\n",
       "        vertical-align: top;\n",
       "    }\n",
       "\n",
       "    .dataframe thead tr th {\n",
       "        text-align: left;\n",
       "    }\n",
       "\n",
       "    .dataframe thead tr:last-of-type th {\n",
       "        text-align: right;\n",
       "    }\n",
       "</style>\n",
       "<table border=\"1\" class=\"dataframe\">\n",
       "  <thead>\n",
       "    <tr>\n",
       "      <th></th>\n",
       "      <th>review_id</th>\n",
       "      <th colspan=\"2\" halign=\"left\">date</th>\n",
       "      <th>useful</th>\n",
       "      <th>funny</th>\n",
       "      <th>cool</th>\n",
       "      <th>stars</th>\n",
       "    </tr>\n",
       "    <tr>\n",
       "      <th></th>\n",
       "      <th>count</th>\n",
       "      <th>min</th>\n",
       "      <th>max</th>\n",
       "      <th>sum</th>\n",
       "      <th>sum</th>\n",
       "      <th>sum</th>\n",
       "      <th>mean</th>\n",
       "    </tr>\n",
       "    <tr>\n",
       "      <th>user_id</th>\n",
       "      <th></th>\n",
       "      <th></th>\n",
       "      <th></th>\n",
       "      <th></th>\n",
       "      <th></th>\n",
       "      <th></th>\n",
       "      <th></th>\n",
       "    </tr>\n",
       "  </thead>\n",
       "  <tbody>\n",
       "    <tr>\n",
       "      <th>fczQCSmaWF78toLEmb0Zsw</th>\n",
       "      <td>38</td>\n",
       "      <td>2007-12-14</td>\n",
       "      <td>2012-07-19</td>\n",
       "      <td>293</td>\n",
       "      <td>147</td>\n",
       "      <td>263</td>\n",
       "      <td>4.131579</td>\n",
       "    </tr>\n",
       "    <tr>\n",
       "      <th>0CMz8YaO3f8xu4KqQgKb9Q</th>\n",
       "      <td>25</td>\n",
       "      <td>2007-01-22</td>\n",
       "      <td>2007-07-20</td>\n",
       "      <td>45</td>\n",
       "      <td>34</td>\n",
       "      <td>44</td>\n",
       "      <td>4.120000</td>\n",
       "    </tr>\n",
       "    <tr>\n",
       "      <th>90a6z--_CUrl84aCzZyPsg</th>\n",
       "      <td>22</td>\n",
       "      <td>2008-02-27</td>\n",
       "      <td>2012-07-23</td>\n",
       "      <td>59</td>\n",
       "      <td>22</td>\n",
       "      <td>44</td>\n",
       "      <td>3.954545</td>\n",
       "    </tr>\n",
       "    <tr>\n",
       "      <th>4ozupHULqGyO42s3zNUzOQ</th>\n",
       "      <td>18</td>\n",
       "      <td>2010-06-26</td>\n",
       "      <td>2012-12-10</td>\n",
       "      <td>130</td>\n",
       "      <td>59</td>\n",
       "      <td>97</td>\n",
       "      <td>4.388889</td>\n",
       "    </tr>\n",
       "    <tr>\n",
       "      <th>0mqHhdKEdak_A1FBhFNXqA</th>\n",
       "      <td>18</td>\n",
       "      <td>2010-04-19</td>\n",
       "      <td>2012-10-19</td>\n",
       "      <td>12</td>\n",
       "      <td>11</td>\n",
       "      <td>2</td>\n",
       "      <td>3.055556</td>\n",
       "    </tr>\n",
       "    <tr>\n",
       "      <th>wHg1YkCzdZq9WBJOTRgxHQ</th>\n",
       "      <td>17</td>\n",
       "      <td>2008-06-13</td>\n",
       "      <td>2012-02-01</td>\n",
       "      <td>100</td>\n",
       "      <td>79</td>\n",
       "      <td>89</td>\n",
       "      <td>3.823529</td>\n",
       "    </tr>\n",
       "    <tr>\n",
       "      <th>0bNXP9quoJEgyVZu9ipGgQ</th>\n",
       "      <td>16</td>\n",
       "      <td>2008-12-05</td>\n",
       "      <td>2012-04-28</td>\n",
       "      <td>115</td>\n",
       "      <td>58</td>\n",
       "      <td>88</td>\n",
       "      <td>2.875000</td>\n",
       "    </tr>\n",
       "    <tr>\n",
       "      <th>_PzSNcfrCjeBxSLXRoMmgQ</th>\n",
       "      <td>16</td>\n",
       "      <td>2009-11-11</td>\n",
       "      <td>2013-01-04</td>\n",
       "      <td>23</td>\n",
       "      <td>13</td>\n",
       "      <td>17</td>\n",
       "      <td>3.750000</td>\n",
       "    </tr>\n",
       "    <tr>\n",
       "      <th>JgDkCER12uiv4lbpmkZ9VA</th>\n",
       "      <td>15</td>\n",
       "      <td>2008-05-27</td>\n",
       "      <td>2011-01-29</td>\n",
       "      <td>30</td>\n",
       "      <td>15</td>\n",
       "      <td>15</td>\n",
       "      <td>2.933333</td>\n",
       "    </tr>\n",
       "    <tr>\n",
       "      <th>joIzw_aUiNvBTuGoytrH7g</th>\n",
       "      <td>15</td>\n",
       "      <td>2009-03-29</td>\n",
       "      <td>2012-01-12</td>\n",
       "      <td>34</td>\n",
       "      <td>18</td>\n",
       "      <td>22</td>\n",
       "      <td>2.933333</td>\n",
       "    </tr>\n",
       "  </tbody>\n",
       "</table>\n",
       "</div>\n",
       "      <button class=\"colab-df-convert\" onclick=\"convertToInteractive('df-844efb26-92a3-4567-a93c-57da2c27db20')\"\n",
       "              title=\"Convert this dataframe to an interactive table.\"\n",
       "              style=\"display:none;\">\n",
       "        \n",
       "  <svg xmlns=\"http://www.w3.org/2000/svg\" height=\"24px\"viewBox=\"0 0 24 24\"\n",
       "       width=\"24px\">\n",
       "    <path d=\"M0 0h24v24H0V0z\" fill=\"none\"/>\n",
       "    <path d=\"M18.56 5.44l.94 2.06.94-2.06 2.06-.94-2.06-.94-.94-2.06-.94 2.06-2.06.94zm-11 1L8.5 8.5l.94-2.06 2.06-.94-2.06-.94L8.5 2.5l-.94 2.06-2.06.94zm10 10l.94 2.06.94-2.06 2.06-.94-2.06-.94-.94-2.06-.94 2.06-2.06.94z\"/><path d=\"M17.41 7.96l-1.37-1.37c-.4-.4-.92-.59-1.43-.59-.52 0-1.04.2-1.43.59L10.3 9.45l-7.72 7.72c-.78.78-.78 2.05 0 2.83L4 21.41c.39.39.9.59 1.41.59.51 0 1.02-.2 1.41-.59l7.78-7.78 2.81-2.81c.8-.78.8-2.07 0-2.86zM5.41 20L4 18.59l7.72-7.72 1.47 1.35L5.41 20z\"/>\n",
       "  </svg>\n",
       "      </button>\n",
       "      \n",
       "  <style>\n",
       "    .colab-df-container {\n",
       "      display:flex;\n",
       "      flex-wrap:wrap;\n",
       "      gap: 12px;\n",
       "    }\n",
       "\n",
       "    .colab-df-convert {\n",
       "      background-color: #E8F0FE;\n",
       "      border: none;\n",
       "      border-radius: 50%;\n",
       "      cursor: pointer;\n",
       "      display: none;\n",
       "      fill: #1967D2;\n",
       "      height: 32px;\n",
       "      padding: 0 0 0 0;\n",
       "      width: 32px;\n",
       "    }\n",
       "\n",
       "    .colab-df-convert:hover {\n",
       "      background-color: #E2EBFA;\n",
       "      box-shadow: 0px 1px 2px rgba(60, 64, 67, 0.3), 0px 1px 3px 1px rgba(60, 64, 67, 0.15);\n",
       "      fill: #174EA6;\n",
       "    }\n",
       "\n",
       "    [theme=dark] .colab-df-convert {\n",
       "      background-color: #3B4455;\n",
       "      fill: #D2E3FC;\n",
       "    }\n",
       "\n",
       "    [theme=dark] .colab-df-convert:hover {\n",
       "      background-color: #434B5C;\n",
       "      box-shadow: 0px 1px 3px 1px rgba(0, 0, 0, 0.15);\n",
       "      filter: drop-shadow(0px 1px 2px rgba(0, 0, 0, 0.3));\n",
       "      fill: #FFFFFF;\n",
       "    }\n",
       "  </style>\n",
       "\n",
       "      <script>\n",
       "        const buttonEl =\n",
       "          document.querySelector('#df-844efb26-92a3-4567-a93c-57da2c27db20 button.colab-df-convert');\n",
       "        buttonEl.style.display =\n",
       "          google.colab.kernel.accessAllowed ? 'block' : 'none';\n",
       "\n",
       "        async function convertToInteractive(key) {\n",
       "          const element = document.querySelector('#df-844efb26-92a3-4567-a93c-57da2c27db20');\n",
       "          const dataTable =\n",
       "            await google.colab.kernel.invokeFunction('convertToInteractive',\n",
       "                                                     [key], {});\n",
       "          if (!dataTable) return;\n",
       "\n",
       "          const docLinkHtml = 'Like what you see? Visit the ' +\n",
       "            '<a target=\"_blank\" href=https://colab.research.google.com/notebooks/data_table.ipynb>data table notebook</a>'\n",
       "            + ' to learn more about interactive tables.';\n",
       "          element.innerHTML = '';\n",
       "          dataTable['output_type'] = 'display_data';\n",
       "          await google.colab.output.renderOutput(dataTable, element);\n",
       "          const docLink = document.createElement('div');\n",
       "          docLink.innerHTML = docLinkHtml;\n",
       "          element.appendChild(docLink);\n",
       "        }\n",
       "      </script>\n",
       "    </div>\n",
       "  </div>\n",
       "  "
      ],
      "text/plain": [
       "                       review_id        date             useful funny cool  \\\n",
       "                           count         min         max    sum   sum  sum   \n",
       "user_id                                                                      \n",
       "fczQCSmaWF78toLEmb0Zsw        38  2007-12-14  2012-07-19    293   147  263   \n",
       "0CMz8YaO3f8xu4KqQgKb9Q        25  2007-01-22  2007-07-20     45    34   44   \n",
       "90a6z--_CUrl84aCzZyPsg        22  2008-02-27  2012-07-23     59    22   44   \n",
       "4ozupHULqGyO42s3zNUzOQ        18  2010-06-26  2012-12-10    130    59   97   \n",
       "0mqHhdKEdak_A1FBhFNXqA        18  2010-04-19  2012-10-19     12    11    2   \n",
       "wHg1YkCzdZq9WBJOTRgxHQ        17  2008-06-13  2012-02-01    100    79   89   \n",
       "0bNXP9quoJEgyVZu9ipGgQ        16  2008-12-05  2012-04-28    115    58   88   \n",
       "_PzSNcfrCjeBxSLXRoMmgQ        16  2009-11-11  2013-01-04     23    13   17   \n",
       "JgDkCER12uiv4lbpmkZ9VA        15  2008-05-27  2011-01-29     30    15   15   \n",
       "joIzw_aUiNvBTuGoytrH7g        15  2009-03-29  2012-01-12     34    18   22   \n",
       "\n",
       "                           stars  \n",
       "                            mean  \n",
       "user_id                           \n",
       "fczQCSmaWF78toLEmb0Zsw  4.131579  \n",
       "0CMz8YaO3f8xu4KqQgKb9Q  4.120000  \n",
       "90a6z--_CUrl84aCzZyPsg  3.954545  \n",
       "4ozupHULqGyO42s3zNUzOQ  4.388889  \n",
       "0mqHhdKEdak_A1FBhFNXqA  3.055556  \n",
       "wHg1YkCzdZq9WBJOTRgxHQ  3.823529  \n",
       "0bNXP9quoJEgyVZu9ipGgQ  2.875000  \n",
       "_PzSNcfrCjeBxSLXRoMmgQ  3.750000  \n",
       "JgDkCER12uiv4lbpmkZ9VA  2.933333  \n",
       "joIzw_aUiNvBTuGoytrH7g  2.933333  "
      ]
     },
     "execution_count": 27,
     "metadata": {},
     "output_type": "execute_result"
    }
   ],
   "source": [
    "user_agg=user_agg.sort_values([('review_id','count')],ascending=False)\n",
    "print(\"                                     Top 10 Users in Yelp\")\n",
    "user_agg.head(10)"
   ]
  },
  {
   "cell_type": "markdown",
   "id": "6da5e046",
   "metadata": {
    "id": "6da5e046"
   },
   "source": [
    "(5). Visualization:"
   ]
  },
  {
   "cell_type": "code",
   "execution_count": 28,
   "id": "4215e588",
   "metadata": {
    "colab": {
     "base_uri": "https://localhost:8080/",
     "height": 242
    },
    "id": "4215e588",
    "outputId": "9a469e7e-0fb8-4f7a-85ef-13aee6cd5d5c",
    "scrolled": true
   },
   "outputs": [
    {
     "data": {
      "text/plain": [
       "<seaborn.axisgrid.FacetGrid at 0x7fbde4795400>"
      ]
     },
     "execution_count": 28,
     "metadata": {},
     "output_type": "execute_result"
    },
    {
     "data": {
      "image/png": "[encoded data removed]",
      "text/plain": [
       "<Figure size 1080x216 with 5 Axes>"
      ]
     },
     "metadata": {
      "needs_background": "light"
     },
     "output_type": "display_data"
    }
   ],
   "source": [
    "# COMPARING TEXT LENGTH TO STARS\n",
    "graph = sns.FacetGrid(data=data,col='stars')\n",
    "graph.map(plt.hist,'length',bins=50,color='blue')"
   ]
  },
  {
   "cell_type": "code",
   "execution_count": 29,
   "id": "0e1004e3",
   "metadata": {
    "colab": {
     "base_uri": "https://localhost:8080/",
     "height": 893
    },
    "id": "0e1004e3",
    "outputId": "29bfa685-49d8-4f19-bb80-b1e5bec77cd1"
   },
   "outputs": [
    {
     "data": {
      "image/png": "[encoded data removed]",
      "text/plain": [
       "<Figure size 864x1080 with 1 Axes>"
      ]
     },
     "metadata": {
      "needs_background": "light"
     },
     "output_type": "display_data"
    }
   ],
   "source": [
    "# BAR PLOT - STARS VS COUNT\n",
    "x = [ 1, 2, 3, 4, 5]\n",
    "y = [ 749, 927, 1461, 3526, 3337]\n",
    "colors = ['red', 'blue', 'green', 'orange', 'purple']\n",
    "\n",
    "fig, ax = plt.subplots(figsize=(12, 15))\n",
    "\n",
    "plt.bar(x, y, color=colors)\n",
    "\n",
    "# ADDING LABLES AND TITLES\n",
    "plt.xlabel('Stars')\n",
    "plt.ylabel('Count')\n",
    "plt.title('BAR PLOT - STARS VS COUNT')\n",
    "\n",
    "plt.show()\n"
   ]
  },
  {
   "cell_type": "code",
   "execution_count": 30,
   "id": "TYmRyfiZgxD1",
   "metadata": {
    "colab": {
     "base_uri": "https://localhost:8080/",
     "height": 484
    },
    "id": "TYmRyfiZgxD1",
    "outputId": "350920e0-15e4-44b6-a696-06eb85e7d060"
   },
   "outputs": [
    {
     "data": {
      "image/png": "[encoded data removed]",
      "text/plain": [
       "<Figure size 1440x576 with 1 Axes>"
      ]
     },
     "metadata": {},
     "output_type": "display_data"
    }
   ],
   "source": [
    "# PIE CHART - EACH STAR PERCENT\n",
    "Stars = [ 1, 2, 3, 4, 5]\n",
    "Count = y = [ 749, 927, 1461, 3526, 3337]\n",
    "myexplode = [0, 0, 0, 0.1, 0]\n",
    "\n",
    "plt.figure(figsize=(20, 8))\n",
    "plt.pie(Count, labels=Stars, autopct='%1.1f%%', shadow=True, startangle=90, explode=myexplode, counterclock=False)\n",
    "\n",
    "plt.legend(labels=Stars, loc=1)\n",
    "plt.axis('equal')\n",
    "plt.title('STARS PERCENT')\n",
    "\n",
    "# Show the plot\n",
    "plt.show()"
   ]
  },
  {
   "cell_type": "code",
   "execution_count": 31,
   "id": "c457e4eb",
   "metadata": {
    "colab": {
     "base_uri": "https://localhost:8080/",
     "height": 938
    },
    "id": "c457e4eb",
    "outputId": "ac852b8a-09bd-4ec8-c42c-38a465d2eddf"
   },
   "outputs": [
    {
     "data": {
      "text/plain": [
       "<seaborn.axisgrid.PairGrid at 0x7fbde17a1e80>"
      ]
     },
     "execution_count": 31,
     "metadata": {},
     "output_type": "execute_result"
    },
    {
     "data": {
      "text/plain": [
       "<Figure size 1080x864 with 0 Axes>"
      ]
     },
     "metadata": {},
     "output_type": "display_data"
    },
    {
     "data": {
      "image/png": "[encoded data removed]",
      "text/plain": [
       "<Figure size 900x900 with 30 Axes>"
      ]
     },
     "metadata": {
      "needs_background": "light"
     },
     "output_type": "display_data"
    }
   ],
   "source": [
    "# PAIRPLOT FOR THE WHOLE DATASET\n",
    "plt.figure(figsize=(15, 12))\n",
    "sns.pairplot(data)"
   ]
  },
  {
   "cell_type": "code",
   "execution_count": 32,
   "id": "a0f5cc8b",
   "metadata": {
    "colab": {
     "base_uri": "https://localhost:8080/",
     "height": 747
    },
    "id": "a0f5cc8b",
    "outputId": "d94cb739-84dd-4ba2-e0c6-41c3a37396b6"
   },
   "outputs": [
    {
     "data": {
      "text/plain": [
       "Text(0.5, 1.0, 'AVG RATINGS VS YEAR')"
      ]
     },
     "execution_count": 32,
     "metadata": {},
     "output_type": "execute_result"
    },
    {
     "data": {
      "image/png": "[encoded data removed]",
      "text/plain": [
       "<Figure size 1080x864 with 1 Axes>"
      ]
     },
     "metadata": {
      "needs_background": "light"
     },
     "output_type": "display_data"
    }
   ],
   "source": [
    "# BAR PLOT - AVG RATINGS VS YEAR\n",
    "\n",
    "data[\"date\"]= pd.to_datetime(data[\"date\"]).dt.date\n",
    "data.set_index('date').head(1)\n",
    "Date_Year = pd.to_datetime(data[\"date\"]).dt.year\n",
    "plt.figure(figsize=(15, 12))\n",
    "sns.barplot(x=Date_Year, y=data[\"stars\"], data=data,)\n",
    "plt.xlabel('Year')\n",
    "plt.title(\"AVG RATINGS VS YEAR\")"
   ]
  },
  {
   "cell_type": "code",
   "execution_count": 33,
   "id": "5e71d32f",
   "metadata": {
    "colab": {
     "base_uri": "https://localhost:8080/",
     "height": 747
    },
    "id": "5e71d32f",
    "outputId": "89110d63-b38f-4cff-c37a-88587844662c"
   },
   "outputs": [
    {
     "data": {
      "text/plain": [
       "Text(0.5, 1.0, 'AVG RATINGS VS MONTH')"
      ]
     },
     "execution_count": 33,
     "metadata": {},
     "output_type": "execute_result"
    },
    {
     "data": {
      "image/png": "[encoded data removed]",
      "text/plain": [
       "<Figure size 1080x864 with 1 Axes>"
      ]
     },
     "metadata": {
      "needs_background": "light"
     },
     "output_type": "display_data"
    }
   ],
   "source": [
    "# BAR PLOT - AVG RATINGS VS MONTH\n",
    "\n",
    "data[\"date\"]= pd.to_datetime(data[\"date\"]).dt.date\n",
    "data.set_index('date').head(1)\n",
    "Date_Month = pd.to_datetime(data[\"date\"]).dt.month\n",
    "plt.figure(figsize=(15, 12))\n",
    "sns.barplot(x=Date_Month, y=data[\"stars\"], data=data)\n",
    "plt.xlabel('Month')\n",
    "plt.title(\"AVG RATINGS VS MONTH\")"
   ]
  },
  {
   "cell_type": "code",
   "execution_count": 34,
   "id": "MjDh5OFh3XxV",
   "metadata": {
    "colab": {
     "base_uri": "https://localhost:8080/",
     "height": 747
    },
    "id": "MjDh5OFh3XxV",
    "outputId": "4ec5a1ce-0e97-4b51-f84b-d963ffe2f1e7"
   },
   "outputs": [
    {
     "data": {
      "text/plain": [
       "Text(0.5, 1.0, 'AVG WORDS VS STARS')"
      ]
     },
     "execution_count": 34,
     "metadata": {},
     "output_type": "execute_result"
    },
    {
     "data": {
      "image/png": "[encoded data removed]",
      "text/plain": [
       "<Figure size 1080x864 with 1 Axes>"
      ]
     },
     "metadata": {
      "needs_background": "light"
     },
     "output_type": "display_data"
    }
   ],
   "source": [
    "# BAR PLOT - AVG WORDS VS STARS\n",
    "plt.figure(figsize=(15, 12))\n",
    "sns.barplot(x=data[\"stars\"], y=data[\"length\"], data=data)\n",
    "plt.title(\"AVG WORDS VS STARS\")"
   ]
  },
  {
   "cell_type": "markdown",
   "id": "2771ec3a",
   "metadata": {
    "id": "2771ec3a"
   },
   "source": [
    "(6). Mean Value of the Vote columns"
   ]
  },
  {
   "cell_type": "code",
   "execution_count": 35,
   "id": "e82085d5",
   "metadata": {
    "colab": {
     "base_uri": "https://localhost:8080/",
     "height": 238
    },
    "id": "e82085d5",
    "outputId": "38dcea62-f130-4cd7-b4c8-3813aa5488ae"
   },
   "outputs": [
    {
     "data": {
      "text/html": [
       "\n",
       "  <div id=\"df-f8482c5b-f978-4e5e-bb32-d721f99ebd8a\">\n",
       "    <div class=\"colab-df-container\">\n",
       "      <div>\n",
       "<style scoped>\n",
       "    .dataframe tbody tr th:only-of-type {\n",
       "        vertical-align: middle;\n",
       "    }\n",
       "\n",
       "    .dataframe tbody tr th {\n",
       "        vertical-align: top;\n",
       "    }\n",
       "\n",
       "    .dataframe thead th {\n",
       "        text-align: right;\n",
       "    }\n",
       "</style>\n",
       "<table border=\"1\" class=\"dataframe\">\n",
       "  <thead>\n",
       "    <tr style=\"text-align: right;\">\n",
       "      <th></th>\n",
       "      <th>cool</th>\n",
       "      <th>useful</th>\n",
       "      <th>funny</th>\n",
       "      <th>length</th>\n",
       "    </tr>\n",
       "    <tr>\n",
       "      <th>stars</th>\n",
       "      <th></th>\n",
       "      <th></th>\n",
       "      <th></th>\n",
       "      <th></th>\n",
       "    </tr>\n",
       "  </thead>\n",
       "  <tbody>\n",
       "    <tr>\n",
       "      <th>1</th>\n",
       "      <td>0.576769</td>\n",
       "      <td>1.604806</td>\n",
       "      <td>1.056075</td>\n",
       "      <td>826.515354</td>\n",
       "    </tr>\n",
       "    <tr>\n",
       "      <th>2</th>\n",
       "      <td>0.719525</td>\n",
       "      <td>1.563107</td>\n",
       "      <td>0.875944</td>\n",
       "      <td>842.256742</td>\n",
       "    </tr>\n",
       "    <tr>\n",
       "      <th>3</th>\n",
       "      <td>0.788501</td>\n",
       "      <td>1.306639</td>\n",
       "      <td>0.694730</td>\n",
       "      <td>758.498289</td>\n",
       "    </tr>\n",
       "    <tr>\n",
       "      <th>4</th>\n",
       "      <td>0.954623</td>\n",
       "      <td>1.395916</td>\n",
       "      <td>0.670448</td>\n",
       "      <td>712.923142</td>\n",
       "    </tr>\n",
       "    <tr>\n",
       "      <th>5</th>\n",
       "      <td>0.944261</td>\n",
       "      <td>1.381780</td>\n",
       "      <td>0.608631</td>\n",
       "      <td>624.999101</td>\n",
       "    </tr>\n",
       "  </tbody>\n",
       "</table>\n",
       "</div>\n",
       "      <button class=\"colab-df-convert\" onclick=\"convertToInteractive('df-f8482c5b-f978-4e5e-bb32-d721f99ebd8a')\"\n",
       "              title=\"Convert this dataframe to an interactive table.\"\n",
       "              style=\"display:none;\">\n",
       "        \n",
       "  <svg xmlns=\"http://www.w3.org/2000/svg\" height=\"24px\"viewBox=\"0 0 24 24\"\n",
       "       width=\"24px\">\n",
       "    <path d=\"M0 0h24v24H0V0z\" fill=\"none\"/>\n",
       "    <path d=\"M18.56 5.44l.94 2.06.94-2.06 2.06-.94-2.06-.94-.94-2.06-.94 2.06-2.06.94zm-11 1L8.5 8.5l.94-2.06 2.06-.94-2.06-.94L8.5 2.5l-.94 2.06-2.06.94zm10 10l.94 2.06.94-2.06 2.06-.94-2.06-.94-.94-2.06-.94 2.06-2.06.94z\"/><path d=\"M17.41 7.96l-1.37-1.37c-.4-.4-.92-.59-1.43-.59-.52 0-1.04.2-1.43.59L10.3 9.45l-7.72 7.72c-.78.78-.78 2.05 0 2.83L4 21.41c.39.39.9.59 1.41.59.51 0 1.02-.2 1.41-.59l7.78-7.78 2.81-2.81c.8-.78.8-2.07 0-2.86zM5.41 20L4 18.59l7.72-7.72 1.47 1.35L5.41 20z\"/>\n",
       "  </svg>\n",
       "      </button>\n",
       "      \n",
       "  <style>\n",
       "    .colab-df-container {\n",
       "      display:flex;\n",
       "      flex-wrap:wrap;\n",
       "      gap: 12px;\n",
       "    }\n",
       "\n",
       "    .colab-df-convert {\n",
       "      background-color: #E8F0FE;\n",
       "      border: none;\n",
       "      border-radius: 50%;\n",
       "      cursor: pointer;\n",
       "      display: none;\n",
       "      fill: #1967D2;\n",
       "      height: 32px;\n",
       "      padding: 0 0 0 0;\n",
       "      width: 32px;\n",
       "    }\n",
       "\n",
       "    .colab-df-convert:hover {\n",
       "      background-color: #E2EBFA;\n",
       "      box-shadow: 0px 1px 2px rgba(60, 64, 67, 0.3), 0px 1px 3px 1px rgba(60, 64, 67, 0.15);\n",
       "      fill: #174EA6;\n",
       "    }\n",
       "\n",
       "    [theme=dark] .colab-df-convert {\n",
       "      background-color: #3B4455;\n",
       "      fill: #D2E3FC;\n",
       "    }\n",
       "\n",
       "    [theme=dark] .colab-df-convert:hover {\n",
       "      background-color: #434B5C;\n",
       "      box-shadow: 0px 1px 3px 1px rgba(0, 0, 0, 0.15);\n",
       "      filter: drop-shadow(0px 1px 2px rgba(0, 0, 0, 0.3));\n",
       "      fill: #FFFFFF;\n",
       "    }\n",
       "  </style>\n",
       "\n",
       "      <script>\n",
       "        const buttonEl =\n",
       "          document.querySelector('#df-f8482c5b-f978-4e5e-bb32-d721f99ebd8a button.colab-df-convert');\n",
       "        buttonEl.style.display =\n",
       "          google.colab.kernel.accessAllowed ? 'block' : 'none';\n",
       "\n",
       "        async function convertToInteractive(key) {\n",
       "          const element = document.querySelector('#df-f8482c5b-f978-4e5e-bb32-d721f99ebd8a');\n",
       "          const dataTable =\n",
       "            await google.colab.kernel.invokeFunction('convertToInteractive',\n",
       "                                                     [key], {});\n",
       "          if (!dataTable) return;\n",
       "\n",
       "          const docLinkHtml = 'Like what you see? Visit the ' +\n",
       "            '<a target=\"_blank\" href=https://colab.research.google.com/notebooks/data_table.ipynb>data table notebook</a>'\n",
       "            + ' to learn more about interactive tables.';\n",
       "          element.innerHTML = '';\n",
       "          dataTable['output_type'] = 'display_data';\n",
       "          await google.colab.output.renderOutput(dataTable, element);\n",
       "          const docLink = document.createElement('div');\n",
       "          docLink.innerHTML = docLinkHtml;\n",
       "          element.appendChild(docLink);\n",
       "        }\n",
       "      </script>\n",
       "    </div>\n",
       "  </div>\n",
       "  "
      ],
      "text/plain": [
       "           cool    useful     funny      length\n",
       "stars                                          \n",
       "1      0.576769  1.604806  1.056075  826.515354\n",
       "2      0.719525  1.563107  0.875944  842.256742\n",
       "3      0.788501  1.306639  0.694730  758.498289\n",
       "4      0.954623  1.395916  0.670448  712.923142\n",
       "5      0.944261  1.381780  0.608631  624.999101"
      ]
     },
     "execution_count": 35,
     "metadata": {},
     "output_type": "execute_result"
    }
   ],
   "source": [
    "# GETTING THE MEAN VALUES OF THE VOTE COLUMNS WRT THE STARS ON THE REVIEW\n",
    "stval = data.groupby('stars').mean()\n",
    "stval"
   ]
  },
  {
   "cell_type": "markdown",
   "id": "f7c3d56c",
   "metadata": {
    "id": "f7c3d56c"
   },
   "source": [
    "(7). Correlation between the voting columns:"
   ]
  },
  {
   "cell_type": "code",
   "execution_count": 36,
   "id": "3bfe805f",
   "metadata": {
    "colab": {
     "base_uri": "https://localhost:8080/",
     "height": 175
    },
    "id": "3bfe805f",
    "outputId": "1451653c-a3b5-4ae5-a7bd-d6e5bf8beeff"
   },
   "outputs": [
    {
     "data": {
      "text/html": [
       "\n",
       "  <div id=\"df-68fd6216-b620-4f1e-b25d-12d1031c5791\">\n",
       "    <div class=\"colab-df-container\">\n",
       "      <div>\n",
       "<style scoped>\n",
       "    .dataframe tbody tr th:only-of-type {\n",
       "        vertical-align: middle;\n",
       "    }\n",
       "\n",
       "    .dataframe tbody tr th {\n",
       "        vertical-align: top;\n",
       "    }\n",
       "\n",
       "    .dataframe thead th {\n",
       "        text-align: right;\n",
       "    }\n",
       "</style>\n",
       "<table border=\"1\" class=\"dataframe\">\n",
       "  <thead>\n",
       "    <tr style=\"text-align: right;\">\n",
       "      <th></th>\n",
       "      <th>cool</th>\n",
       "      <th>useful</th>\n",
       "      <th>funny</th>\n",
       "      <th>length</th>\n",
       "    </tr>\n",
       "  </thead>\n",
       "  <tbody>\n",
       "    <tr>\n",
       "      <th>cool</th>\n",
       "      <td>1.000000</td>\n",
       "      <td>-0.743329</td>\n",
       "      <td>-0.944939</td>\n",
       "      <td>-0.857664</td>\n",
       "    </tr>\n",
       "    <tr>\n",
       "      <th>useful</th>\n",
       "      <td>-0.743329</td>\n",
       "      <td>1.000000</td>\n",
       "      <td>0.894506</td>\n",
       "      <td>0.699881</td>\n",
       "    </tr>\n",
       "    <tr>\n",
       "      <th>funny</th>\n",
       "      <td>-0.944939</td>\n",
       "      <td>0.894506</td>\n",
       "      <td>1.000000</td>\n",
       "      <td>0.843461</td>\n",
       "    </tr>\n",
       "    <tr>\n",
       "      <th>length</th>\n",
       "      <td>-0.857664</td>\n",
       "      <td>0.699881</td>\n",
       "      <td>0.843461</td>\n",
       "      <td>1.000000</td>\n",
       "    </tr>\n",
       "  </tbody>\n",
       "</table>\n",
       "</div>\n",
       "      <button class=\"colab-df-convert\" onclick=\"convertToInteractive('df-68fd6216-b620-4f1e-b25d-12d1031c5791')\"\n",
       "              title=\"Convert this dataframe to an interactive table.\"\n",
       "              style=\"display:none;\">\n",
       "        \n",
       "  <svg xmlns=\"http://www.w3.org/2000/svg\" height=\"24px\"viewBox=\"0 0 24 24\"\n",
       "       width=\"24px\">\n",
       "    <path d=\"M0 0h24v24H0V0z\" fill=\"none\"/>\n",
       "    <path d=\"M18.56 5.44l.94 2.06.94-2.06 2.06-.94-2.06-.94-.94-2.06-.94 2.06-2.06.94zm-11 1L8.5 8.5l.94-2.06 2.06-.94-2.06-.94L8.5 2.5l-.94 2.06-2.06.94zm10 10l.94 2.06.94-2.06 2.06-.94-2.06-.94-.94-2.06-.94 2.06-2.06.94z\"/><path d=\"M17.41 7.96l-1.37-1.37c-.4-.4-.92-.59-1.43-.59-.52 0-1.04.2-1.43.59L10.3 9.45l-7.72 7.72c-.78.78-.78 2.05 0 2.83L4 21.41c.39.39.9.59 1.41.59.51 0 1.02-.2 1.41-.59l7.78-7.78 2.81-2.81c.8-.78.8-2.07 0-2.86zM5.41 20L4 18.59l7.72-7.72 1.47 1.35L5.41 20z\"/>\n",
       "  </svg>\n",
       "      </button>\n",
       "      \n",
       "  <style>\n",
       "    .colab-df-container {\n",
       "      display:flex;\n",
       "      flex-wrap:wrap;\n",
       "      gap: 12px;\n",
       "    }\n",
       "\n",
       "    .colab-df-convert {\n",
       "      background-color: #E8F0FE;\n",
       "      border: none;\n",
       "      border-radius: 50%;\n",
       "      cursor: pointer;\n",
       "      display: none;\n",
       "      fill: #1967D2;\n",
       "      height: 32px;\n",
       "      padding: 0 0 0 0;\n",
       "      width: 32px;\n",
       "    }\n",
       "\n",
       "    .colab-df-convert:hover {\n",
       "      background-color: #E2EBFA;\n",
       "      box-shadow: 0px 1px 2px rgba(60, 64, 67, 0.3), 0px 1px 3px 1px rgba(60, 64, 67, 0.15);\n",
       "      fill: #174EA6;\n",
       "    }\n",
       "\n",
       "    [theme=dark] .colab-df-convert {\n",
       "      background-color: #3B4455;\n",
       "      fill: #D2E3FC;\n",
       "    }\n",
       "\n",
       "    [theme=dark] .colab-df-convert:hover {\n",
       "      background-color: #434B5C;\n",
       "      box-shadow: 0px 1px 3px 1px rgba(0, 0, 0, 0.15);\n",
       "      filter: drop-shadow(0px 1px 2px rgba(0, 0, 0, 0.3));\n",
       "      fill: #FFFFFF;\n",
       "    }\n",
       "  </style>\n",
       "\n",
       "      <script>\n",
       "        const buttonEl =\n",
       "          document.querySelector('#df-68fd6216-b620-4f1e-b25d-12d1031c5791 button.colab-df-convert');\n",
       "        buttonEl.style.display =\n",
       "          google.colab.kernel.accessAllowed ? 'block' : 'none';\n",
       "\n",
       "        async function convertToInteractive(key) {\n",
       "          const element = document.querySelector('#df-68fd6216-b620-4f1e-b25d-12d1031c5791');\n",
       "          const dataTable =\n",
       "            await google.colab.kernel.invokeFunction('convertToInteractive',\n",
       "                                                     [key], {});\n",
       "          if (!dataTable) return;\n",
       "\n",
       "          const docLinkHtml = 'Like what you see? Visit the ' +\n",
       "            '<a target=\"_blank\" href=https://colab.research.google.com/notebooks/data_table.ipynb>data table notebook</a>'\n",
       "            + ' to learn more about interactive tables.';\n",
       "          element.innerHTML = '';\n",
       "          dataTable['output_type'] = 'display_data';\n",
       "          await google.colab.output.renderOutput(dataTable, element);\n",
       "          const docLink = document.createElement('div');\n",
       "          docLink.innerHTML = docLinkHtml;\n",
       "          element.appendChild(docLink);\n",
       "        }\n",
       "      </script>\n",
       "    </div>\n",
       "  </div>\n",
       "  "
      ],
      "text/plain": [
       "            cool    useful     funny    length\n",
       "cool    1.000000 -0.743329 -0.944939 -0.857664\n",
       "useful -0.743329  1.000000  0.894506  0.699881\n",
       "funny  -0.944939  0.894506  1.000000  0.843461\n",
       "length -0.857664  0.699881  0.843461  1.000000"
      ]
     },
     "execution_count": 36,
     "metadata": {},
     "output_type": "execute_result"
    }
   ],
   "source": [
    "# FINDING THE CORRELATION BETWEEN THE VOTE COLUMNS\n",
    "corr = stval.corr()\n",
    "corr"
   ]
  },
  {
   "cell_type": "code",
   "execution_count": 37,
   "id": "XfGXjSRQcFh9",
   "metadata": {
    "colab": {
     "base_uri": "https://localhost:8080/",
     "height": 721
    },
    "id": "XfGXjSRQcFh9",
    "outputId": "b3ab5ac3-ec66-44a5-cc82-3976b5dfa53e"
   },
   "outputs": [
    {
     "data": {
      "text/plain": [
       "<AxesSubplot:>"
      ]
     },
     "execution_count": 37,
     "metadata": {},
     "output_type": "execute_result"
    },
    {
     "data": {
      "image/png": "[encoded data removed]",
      "text/plain": [
       "<Figure size 1080x864 with 2 Axes>"
      ]
     },
     "metadata": {
      "needs_background": "light"
     },
     "output_type": "display_data"
    }
   ],
   "source": [
    "# HEAT MAP\n",
    "plt.figure(figsize=(15, 12))\n",
    "sns.heatmap(corr,xticklabels=corr.columns,yticklabels=corr.columns,annot=True)"
   ]
  },
  {
   "cell_type": "markdown",
   "id": "OmJXynIUcpx5",
   "metadata": {
    "id": "OmJXynIUcpx5"
   },
   "source": [
    "Thus, we can see that there is negative correlation between:\n",
    "\n",
    "* Cool and Useful\n",
    "* Cool and Funny\n",
    "* Cool and Length  <br>\n",
    "Thus, we can say that the reviews marked cool tend to be curt, not very useful to others and short.\n",
    "Whereas, there is a positive correlation between:\n",
    "\n",
    "* Funny and Useful    \n",
    "* Funny and Length\n",
    "* Useful and Length    \n",
    "Thus, we can say that longer reviews tend to be funny and useful."
   ]
  },
  {
   "cell_type": "markdown",
   "id": "5f4986f8",
   "metadata": {
    "id": "5f4986f8"
   },
   "source": [
    "(8). Classifying the dataset and splitting it into the reviews and stars:"
   ]
  },
  {
   "cell_type": "code",
   "execution_count": 38,
   "id": "46222988",
   "metadata": {
    "colab": {
     "base_uri": "https://localhost:8080/",
     "height": 354
    },
    "id": "46222988",
    "outputId": "fe64a02f-70a6-48ed-b385-cf8f2a54b807"
   },
   "outputs": [
    {
     "data": {
      "text/html": [
       "\n",
       "  <div id=\"df-efd53315-e834-4767-979d-71bcc2b1e032\">\n",
       "    <div class=\"colab-df-container\">\n",
       "      <div>\n",
       "<style scoped>\n",
       "    .dataframe tbody tr th:only-of-type {\n",
       "        vertical-align: middle;\n",
       "    }\n",
       "\n",
       "    .dataframe tbody tr th {\n",
       "        vertical-align: top;\n",
       "    }\n",
       "\n",
       "    .dataframe thead th {\n",
       "        text-align: right;\n",
       "    }\n",
       "</style>\n",
       "<table border=\"1\" class=\"dataframe\">\n",
       "  <thead>\n",
       "    <tr style=\"text-align: right;\">\n",
       "      <th></th>\n",
       "      <th>business_id</th>\n",
       "      <th>date</th>\n",
       "      <th>review_id</th>\n",
       "      <th>stars</th>\n",
       "      <th>text</th>\n",
       "      <th>type</th>\n",
       "      <th>user_id</th>\n",
       "      <th>cool</th>\n",
       "      <th>useful</th>\n",
       "      <th>funny</th>\n",
       "      <th>length</th>\n",
       "    </tr>\n",
       "  </thead>\n",
       "  <tbody>\n",
       "    <tr>\n",
       "      <th>0</th>\n",
       "      <td>9yKzy9PApeiPPOUJEtnvkg</td>\n",
       "      <td>2011-01-26</td>\n",
       "      <td>fWKvX83p0-ka4JS3dc6E5A</td>\n",
       "      <td>5</td>\n",
       "      <td>My wife took me here on my birthday for breakf...</td>\n",
       "      <td>review</td>\n",
       "      <td>rLtl8ZkDX5vH5nAx9C3q5Q</td>\n",
       "      <td>2</td>\n",
       "      <td>5</td>\n",
       "      <td>0</td>\n",
       "      <td>889</td>\n",
       "    </tr>\n",
       "    <tr>\n",
       "      <th>1</th>\n",
       "      <td>ZRJwVLyzEJq1VAihDhYiow</td>\n",
       "      <td>2011-07-27</td>\n",
       "      <td>IjZ33sJrzXqU-0X6U8NwyA</td>\n",
       "      <td>5</td>\n",
       "      <td>I have no idea why some people give bad review...</td>\n",
       "      <td>review</td>\n",
       "      <td>0a2KyEL0d3Yb1V6aivbIuQ</td>\n",
       "      <td>0</td>\n",
       "      <td>0</td>\n",
       "      <td>0</td>\n",
       "      <td>1345</td>\n",
       "    </tr>\n",
       "    <tr>\n",
       "      <th>3</th>\n",
       "      <td>_1QQZuf4zZOyFCvXc0o6Vg</td>\n",
       "      <td>2010-05-27</td>\n",
       "      <td>G-WvGaISbqqaMHlNnByodA</td>\n",
       "      <td>5</td>\n",
       "      <td>Rosie, Dakota, and I LOVE Chaparral Dog Park!!...</td>\n",
       "      <td>review</td>\n",
       "      <td>uZetl9T0NcROGOyFfughhg</td>\n",
       "      <td>1</td>\n",
       "      <td>2</td>\n",
       "      <td>0</td>\n",
       "      <td>419</td>\n",
       "    </tr>\n",
       "    <tr>\n",
       "      <th>4</th>\n",
       "      <td>6ozycU1RpktNG2-1BroVtw</td>\n",
       "      <td>2012-01-05</td>\n",
       "      <td>1uJFq2r5QfJG_6ExMRCaGw</td>\n",
       "      <td>5</td>\n",
       "      <td>General Manager Scott Petello is a good egg!!!...</td>\n",
       "      <td>review</td>\n",
       "      <td>vYmM4KTsC8ZfQBg-j5MWkw</td>\n",
       "      <td>0</td>\n",
       "      <td>0</td>\n",
       "      <td>0</td>\n",
       "      <td>469</td>\n",
       "    </tr>\n",
       "    <tr>\n",
       "      <th>6</th>\n",
       "      <td>zp713qNhx8d9KCJJnrw1xA</td>\n",
       "      <td>2010-02-12</td>\n",
       "      <td>riFQ3vxNpP4rWLk_CSri2A</td>\n",
       "      <td>5</td>\n",
       "      <td>Drop what you're doing and drive here. After I...</td>\n",
       "      <td>review</td>\n",
       "      <td>wFweIWhv2fREZV_dYkz_1g</td>\n",
       "      <td>7</td>\n",
       "      <td>7</td>\n",
       "      <td>4</td>\n",
       "      <td>1565</td>\n",
       "    </tr>\n",
       "  </tbody>\n",
       "</table>\n",
       "</div>\n",
       "      <button class=\"colab-df-convert\" onclick=\"convertToInteractive('df-efd53315-e834-4767-979d-71bcc2b1e032')\"\n",
       "              title=\"Convert this dataframe to an interactive table.\"\n",
       "              style=\"display:none;\">\n",
       "        \n",
       "  <svg xmlns=\"http://www.w3.org/2000/svg\" height=\"24px\"viewBox=\"0 0 24 24\"\n",
       "       width=\"24px\">\n",
       "    <path d=\"M0 0h24v24H0V0z\" fill=\"none\"/>\n",
       "    <path d=\"M18.56 5.44l.94 2.06.94-2.06 2.06-.94-2.06-.94-.94-2.06-.94 2.06-2.06.94zm-11 1L8.5 8.5l.94-2.06 2.06-.94-2.06-.94L8.5 2.5l-.94 2.06-2.06.94zm10 10l.94 2.06.94-2.06 2.06-.94-2.06-.94-.94-2.06-.94 2.06-2.06.94z\"/><path d=\"M17.41 7.96l-1.37-1.37c-.4-.4-.92-.59-1.43-.59-.52 0-1.04.2-1.43.59L10.3 9.45l-7.72 7.72c-.78.78-.78 2.05 0 2.83L4 21.41c.39.39.9.59 1.41.59.51 0 1.02-.2 1.41-.59l7.78-7.78 2.81-2.81c.8-.78.8-2.07 0-2.86zM5.41 20L4 18.59l7.72-7.72 1.47 1.35L5.41 20z\"/>\n",
       "  </svg>\n",
       "      </button>\n",
       "      \n",
       "  <style>\n",
       "    .colab-df-container {\n",
       "      display:flex;\n",
       "      flex-wrap:wrap;\n",
       "      gap: 12px;\n",
       "    }\n",
       "\n",
       "    .colab-df-convert {\n",
       "      background-color: #E8F0FE;\n",
       "      border: none;\n",
       "      border-radius: 50%;\n",
       "      cursor: pointer;\n",
       "      display: none;\n",
       "      fill: #1967D2;\n",
       "      height: 32px;\n",
       "      padding: 0 0 0 0;\n",
       "      width: 32px;\n",
       "    }\n",
       "\n",
       "    .colab-df-convert:hover {\n",
       "      background-color: #E2EBFA;\n",
       "      box-shadow: 0px 1px 2px rgba(60, 64, 67, 0.3), 0px 1px 3px 1px rgba(60, 64, 67, 0.15);\n",
       "      fill: #174EA6;\n",
       "    }\n",
       "\n",
       "    [theme=dark] .colab-df-convert {\n",
       "      background-color: #3B4455;\n",
       "      fill: #D2E3FC;\n",
       "    }\n",
       "\n",
       "    [theme=dark] .colab-df-convert:hover {\n",
       "      background-color: #434B5C;\n",
       "      box-shadow: 0px 1px 3px 1px rgba(0, 0, 0, 0.15);\n",
       "      filter: drop-shadow(0px 1px 2px rgba(0, 0, 0, 0.3));\n",
       "      fill: #FFFFFF;\n",
       "    }\n",
       "  </style>\n",
       "\n",
       "      <script>\n",
       "        const buttonEl =\n",
       "          document.querySelector('#df-efd53315-e834-4767-979d-71bcc2b1e032 button.colab-df-convert');\n",
       "        buttonEl.style.display =\n",
       "          google.colab.kernel.accessAllowed ? 'block' : 'none';\n",
       "\n",
       "        async function convertToInteractive(key) {\n",
       "          const element = document.querySelector('#df-efd53315-e834-4767-979d-71bcc2b1e032');\n",
       "          const dataTable =\n",
       "            await google.colab.kernel.invokeFunction('convertToInteractive',\n",
       "                                                     [key], {});\n",
       "          if (!dataTable) return;\n",
       "\n",
       "          const docLinkHtml = 'Like what you see? Visit the ' +\n",
       "            '<a target=\"_blank\" href=https://colab.research.google.com/notebooks/data_table.ipynb>data table notebook</a>'\n",
       "            + ' to learn more about interactive tables.';\n",
       "          element.innerHTML = '';\n",
       "          dataTable['output_type'] = 'display_data';\n",
       "          await google.colab.output.renderOutput(dataTable, element);\n",
       "          const docLink = document.createElement('div');\n",
       "          docLink.innerHTML = docLinkHtml;\n",
       "          element.appendChild(docLink);\n",
       "        }\n",
       "      </script>\n",
       "    </div>\n",
       "  </div>\n",
       "  "
      ],
      "text/plain": [
       "              business_id        date               review_id  stars  \\\n",
       "0  9yKzy9PApeiPPOUJEtnvkg  2011-01-26  fWKvX83p0-ka4JS3dc6E5A      5   \n",
       "1  ZRJwVLyzEJq1VAihDhYiow  2011-07-27  IjZ33sJrzXqU-0X6U8NwyA      5   \n",
       "3  _1QQZuf4zZOyFCvXc0o6Vg  2010-05-27  G-WvGaISbqqaMHlNnByodA      5   \n",
       "4  6ozycU1RpktNG2-1BroVtw  2012-01-05  1uJFq2r5QfJG_6ExMRCaGw      5   \n",
       "6  zp713qNhx8d9KCJJnrw1xA  2010-02-12  riFQ3vxNpP4rWLk_CSri2A      5   \n",
       "\n",
       "                                                text    type  \\\n",
       "0  My wife took me here on my birthday for breakf...  review   \n",
       "1  I have no idea why some people give bad review...  review   \n",
       "3  Rosie, Dakota, and I LOVE Chaparral Dog Park!!...  review   \n",
       "4  General Manager Scott Petello is a good egg!!!...  review   \n",
       "6  Drop what you're doing and drive here. After I...  review   \n",
       "\n",
       "                  user_id  cool  useful  funny  length  \n",
       "0  rLtl8ZkDX5vH5nAx9C3q5Q     2       5      0     889  \n",
       "1  0a2KyEL0d3Yb1V6aivbIuQ     0       0      0    1345  \n",
       "3  uZetl9T0NcROGOyFfughhg     1       2      0     419  \n",
       "4  vYmM4KTsC8ZfQBg-j5MWkw     0       0      0     469  \n",
       "6  wFweIWhv2fREZV_dYkz_1g     7       7      4    1565  "
      ]
     },
     "execution_count": 38,
     "metadata": {},
     "output_type": "execute_result"
    }
   ],
   "source": [
    "# CLASSIFICATION\n",
    "data_classes = data[(data['stars']==1) | (data['stars']==3) | (data['stars']==5)]\n",
    "data_classes.head()"
   ]
  },
  {
   "cell_type": "code",
   "execution_count": 39,
   "id": "hl7aYbIBcwS0",
   "metadata": {
    "colab": {
     "base_uri": "https://localhost:8080/"
    },
    "id": "hl7aYbIBcwS0",
    "outputId": "73f3c691-08a2-4534-9203-49a35ca6cef3"
   },
   "outputs": [
    {
     "name": "stdout",
     "output_type": "stream",
     "text": [
      "(5547, 11)\n"
     ]
    }
   ],
   "source": [
    "print(data_classes.shape)"
   ]
  },
  {
   "cell_type": "code",
   "execution_count": 69,
   "id": "H0gXyH2U-cq9",
   "metadata": {
    "colab": {
     "base_uri": "https://localhost:8080/"
    },
    "id": "H0gXyH2U-cq9",
    "outputId": "291ed0c2-f526-4dfa-da00-8517df4e4084"
   },
   "outputs": [
    {
     "name": "stdout",
     "output_type": "stream",
     "text": [
      "0        True\n",
      "1        True\n",
      "3        True\n",
      "4        True\n",
      "6        True\n",
      "        ...  \n",
      "9991     True\n",
      "9992     True\n",
      "9994     True\n",
      "9995    False\n",
      "9999     True\n",
      "Name: stars, Length: 5547, dtype: bool\n"
     ]
    }
   ],
   "source": [
    "print(data_classes['stars']==5)"
   ]
  },
  {
   "cell_type": "code",
   "execution_count": 70,
   "id": "y7lZuLOk-cgW",
   "metadata": {
    "colab": {
     "base_uri": "https://localhost:8080/"
    },
    "id": "y7lZuLOk-cgW",
    "outputId": "3d220fb9-f33f-40ce-9029-fd64c4052824"
   },
   "outputs": [
    {
     "name": "stdout",
     "output_type": "stream",
     "text": [
      "0       False\n",
      "1       False\n",
      "3       False\n",
      "4       False\n",
      "6       False\n",
      "        ...  \n",
      "9991    False\n",
      "9992    False\n",
      "9994    False\n",
      "9995     True\n",
      "9999    False\n",
      "Name: stars, Length: 5547, dtype: bool\n"
     ]
    }
   ],
   "source": [
    "print(data_classes['stars']==3)"
   ]
  },
  {
   "cell_type": "code",
   "execution_count": 71,
   "id": "w1fLA27l-cVA",
   "metadata": {
    "colab": {
     "base_uri": "https://localhost:8080/"
    },
    "id": "w1fLA27l-cVA",
    "outputId": "7aa062a7-76d0-4942-a16e-6dff234ac213"
   },
   "outputs": [
    {
     "name": "stdout",
     "output_type": "stream",
     "text": [
      "0       False\n",
      "1       False\n",
      "3       False\n",
      "4       False\n",
      "6       False\n",
      "        ...  \n",
      "9991    False\n",
      "9992    False\n",
      "9994    False\n",
      "9995    False\n",
      "9999    False\n",
      "Name: stars, Length: 5547, dtype: bool\n"
     ]
    }
   ],
   "source": [
    "print(data_classes['stars']==1)"
   ]
  },
  {
   "cell_type": "code",
   "execution_count": 40,
   "id": "472a1242",
   "metadata": {
    "colab": {
     "base_uri": "https://localhost:8080/"
    },
    "id": "472a1242",
    "outputId": "1427c45e-c17a-47bf-fc74-3da3aaa85c8e"
   },
   "outputs": [
    {
     "name": "stdout",
     "output_type": "stream",
     "text": [
      "0    My wife took me here on my birthday for breakf...\n",
      "1    I have no idea why some people give bad review...\n",
      "3    Rosie, Dakota, and I LOVE Chaparral Dog Park!!...\n",
      "4    General Manager Scott Petello is a good egg!!!...\n",
      "6    Drop what you're doing and drive here. After I...\n",
      "Name: text, dtype: object\n",
      "0    5\n",
      "1    5\n",
      "3    5\n",
      "4    5\n",
      "6    5\n",
      "Name: stars, dtype: int64\n"
     ]
    }
   ],
   "source": [
    "# Seperate the dataset into X and Y for prediction\n",
    "\n",
    "x = data_classes['text']\n",
    "y = data_classes['stars']\n",
    "print(x.head())\n",
    "print(y.head())"
   ]
  },
  {
   "cell_type": "markdown",
   "id": "debfd96c",
   "metadata": {
    "id": "debfd96c"
   },
   "source": [
    "(9). Data Cleaning:"
   ]
  },
  {
   "cell_type": "code",
   "execution_count": 41,
   "id": "18f12053",
   "metadata": {
    "id": "18f12053"
   },
   "outputs": [],
   "source": [
    "# CLEANING THE REVIEWS - REMOVAL OF STOPWORDS AND PUNCTUATION\n",
    "def text_process(text):\n",
    "    nopunc = [char for char in text if char not in string.punctuation]\n",
    "    nopunc = ''.join(nopunc)\n",
    "    return [word for word in nopunc.split() if word.lower() not in stopwords.words('english')]"
   ]
  },
  {
   "cell_type": "markdown",
   "id": "f2c70f25",
   "metadata": {
    "id": "f2c70f25"
   },
   "source": [
    "(10). Vectorization"
   ]
  },
  {
   "cell_type": "code",
   "execution_count": 42,
   "id": "9b8fd547",
   "metadata": {
    "colab": {
     "base_uri": "https://localhost:8080/"
    },
    "id": "9b8fd547",
    "outputId": "e15d3e64-171a-4923-a123-3a32c3b5507c"
   },
   "outputs": [
    {
     "name": "stderr",
     "output_type": "stream",
     "text": [
      "[nltk_data] Downloading package stopwords to /root/nltk_data...\n",
      "[nltk_data]   Package stopwords is already up-to-date!\n"
     ]
    },
    {
     "data": {
      "text/plain": [
       "True"
      ]
     },
     "execution_count": 42,
     "metadata": {},
     "output_type": "execute_result"
    }
   ],
   "source": [
    "#python -m nltk.downloader stopwords\n",
    "\n",
    "import nltk  \n",
    "nltk.download('stopwords')\n"
   ]
  },
  {
   "cell_type": "code",
   "execution_count": 43,
   "id": "aa986173",
   "metadata": {
    "colab": {
     "base_uri": "https://localhost:8080/"
    },
    "id": "aa986173",
    "outputId": "bf3849e5-03f4-42fd-e8a9-2fb17a7c0f11"
   },
   "outputs": [
    {
     "name": "stdout",
     "output_type": "stream",
     "text": [
      "31336\n"
     ]
    }
   ],
   "source": [
    "# CONVERTING THE WORDS INTO A VECTOR\n",
    "vocab = CountVectorizer(analyzer=text_process).fit(x)\n",
    "print(len(vocab.vocabulary_))"
   ]
  },
  {
   "cell_type": "code",
   "execution_count": 44,
   "id": "P3fjpu944pHi",
   "metadata": {
    "colab": {
     "base_uri": "https://localhost:8080/"
    },
    "id": "P3fjpu944pHi",
    "outputId": "60d9dec5-5034-44c5-b679-d05ee7d71378"
   },
   "outputs": [
    {
     "name": "stdout",
     "output_type": "stream",
     "text": [
      "My wife took me here on my birthday for breakfast and it was excellent.  The weather was perfect which made sitting outside overlooking their grounds an absolute pleasure.  Our waitress was excellent and our food arrived quickly on the semi-busy Saturday morning.  It looked like the place fills up pretty quickly so the earlier you get here the better.\n",
      "\n",
      "Do yourself a favor and get their Bloody Mary.  It was phenomenal and simply the best I've ever had.  I'm pretty sure they only use ingredients from their garden and blend them fresh when you order it.  It was amazing.\n",
      "\n",
      "While EVERYTHING on the menu looks excellent, I had the white truffle scrambled eggs vegetable skillet and it was tasty and delicious.  It came with 2 pieces of their griddled bread with was amazing and it absolutely made the meal complete.  It was the best \"toast\" I've ever had.\n",
      "\n",
      "Anyway, I can't wait to go back!\n"
     ]
    }
   ],
   "source": [
    "# Testing review\n",
    "r0 = x[0]\n",
    "print(r0)"
   ]
  },
  {
   "cell_type": "code",
   "execution_count": 45,
   "id": "keGgr9hS4o2_",
   "metadata": {
    "colab": {
     "base_uri": "https://localhost:8080/"
    },
    "id": "keGgr9hS4o2_",
    "outputId": "231ffb75-b4e2-4fb3-9999-4bcbd6eecda5"
   },
   "outputs": [
    {
     "name": "stdout",
     "output_type": "stream",
     "text": [
      "  (0, 292)\t1\n",
      "  (0, 1213)\t1\n",
      "  (0, 1811)\t1\n",
      "  (0, 3537)\t1\n",
      "  (0, 5139)\t1\n",
      "  (0, 5256)\t2\n",
      "  (0, 6275)\t1\n",
      "  (0, 8521)\t1\n",
      "  (0, 10646)\t1\n",
      "  (0, 10647)\t1\n",
      "  (0, 11128)\t2\n",
      "  (0, 11479)\t1\n",
      "  (0, 11779)\t1\n",
      "  (0, 12206)\t2\n",
      "  (0, 12221)\t1\n",
      "  (0, 12297)\t1\n",
      "  (0, 12386)\t1\n",
      "  (0, 12675)\t1\n",
      "  (0, 12689)\t1\n",
      "  (0, 13135)\t1\n",
      "  (0, 13186)\t1\n",
      "  (0, 14247)\t1\n",
      "  (0, 15385)\t1\n",
      "  (0, 16292)\t1\n",
      "  (0, 16412)\t1\n",
      "  :\t:\n",
      "  (0, 23318)\t1\n",
      "  (0, 23801)\t1\n",
      "  (0, 23902)\t1\n",
      "  (0, 23976)\t1\n",
      "  (0, 24080)\t1\n",
      "  (0, 24177)\t1\n",
      "  (0, 24544)\t2\n",
      "  (0, 24972)\t2\n",
      "  (0, 26383)\t1\n",
      "  (0, 26543)\t1\n",
      "  (0, 26978)\t1\n",
      "  (0, 27029)\t1\n",
      "  (0, 27068)\t1\n",
      "  (0, 28403)\t1\n",
      "  (0, 28735)\t1\n",
      "  (0, 29230)\t1\n",
      "  (0, 29313)\t1\n",
      "  (0, 29620)\t1\n",
      "  (0, 30135)\t1\n",
      "  (0, 30240)\t1\n",
      "  (0, 30471)\t1\n",
      "  (0, 30488)\t1\n",
      "  (0, 30672)\t1\n",
      "  (0, 30854)\t1\n",
      "  (0, 30900)\t1\n"
     ]
    }
   ],
   "source": [
    "# Transforming\n",
    "vocab0 = vocab.transform([r0])\n",
    "print(vocab0)"
   ]
  },
  {
   "cell_type": "code",
   "execution_count": 46,
   "id": "2fhhXc5p4w1j",
   "metadata": {
    "colab": {
     "base_uri": "https://localhost:8080/"
    },
    "id": "2fhhXc5p4w1j",
    "outputId": "22942148-c04b-4299-c8af-7af1955b2867"
   },
   "outputs": [
    {
     "name": "stdout",
     "output_type": "stream",
     "text": [
      "Getting the words back:\n",
      "amazing\n",
      "pretty\n"
     ]
    }
   ],
   "source": [
    "# Getting feature words\n",
    "\"\"\"\n",
    "    Now the words in the review number 78 have been converted into a vector.\n",
    "    The data that we can see is the transformed words.\n",
    "    If we now get the feature's name - we can get the word back!\n",
    "\"\"\"\n",
    "print(\"Getting the words back:\")\n",
    "print(vocab.get_feature_names_out()[11128])\n",
    "print(vocab.get_feature_names_out()[24544])"
   ]
  },
  {
   "cell_type": "markdown",
   "id": "853614bc",
   "metadata": {
    "id": "853614bc"
   },
   "source": [
    "(11). Vectorization of the whole review set and and checking the sparse matrix:"
   ]
  },
  {
   "cell_type": "code",
   "execution_count": 47,
   "id": "9d54a8a0",
   "metadata": {
    "colab": {
     "base_uri": "https://localhost:8080/"
    },
    "id": "9d54a8a0",
    "outputId": "bb3db5e1-2e22-4175-c1e4-bc75c9e52cef"
   },
   "outputs": [
    {
     "name": "stdout",
     "output_type": "stream",
     "text": [
      "Shape of the sparse matrix:  (5547, 31336)\n",
      "Non-Zero occurences:  312457\n",
      "Density of the matrix =  0.17975812697942373\n"
     ]
    }
   ],
   "source": [
    "x = vocab.transform(x)\n",
    "# Shape of the matrix:\n",
    "print(\"Shape of the sparse matrix: \", x.shape)\n",
    "\n",
    "#Non-zero occurences:\n",
    "print(\"Non-Zero occurences: \",x.nnz)\n",
    "\n",
    "# DENSITY OF THE MATRIX\n",
    "density = (x.nnz/(x.shape[0]*x.shape[1]))*100\n",
    "print(\"Density of the matrix = \",density)"
   ]
  },
  {
   "cell_type": "markdown",
   "id": "cb175c20",
   "metadata": {
    "id": "cb175c20"
   },
   "source": [
    "(12). Splitting the dataset X into training and testing set:"
   ]
  },
  {
   "cell_type": "code",
   "execution_count": 48,
   "id": "a3057eed",
   "metadata": {
    "id": "a3057eed"
   },
   "outputs": [],
   "source": [
    "# SPLITTING THE DATASET INTO TRAINING SET AND TESTING SET\n",
    "x_train,x_test,y_train,y_test = train_test_split(x,y,test_size=0.20,random_state=101)"
   ]
  },
  {
   "cell_type": "markdown",
   "id": "2ba5fdb6",
   "metadata": {
    "id": "2ba5fdb6"
   },
   "source": [
    "(13). Modelling:"
   ]
  },
  {
   "cell_type": "code",
   "execution_count": 49,
   "id": "M45bAeIDfSeI",
   "metadata": {
    "colab": {
     "base_uri": "https://localhost:8080/"
    },
    "id": "M45bAeIDfSeI",
    "outputId": "a3133961-cac2-4e16-bb0e-0f0e63815d58"
   },
   "outputs": [
    {
     "name": "stdout",
     "output_type": "stream",
     "text": [
      "Confusion Matrix for K Neighbors Classifier:\n",
      "[[ 12  10 140]\n",
      " [  3  33 256]\n",
      " [  8  12 636]]\n",
      "Score:  61.35\n",
      "Classification Report:\n",
      "              precision    recall  f1-score   support\n",
      "\n",
      "           1       0.52      0.07      0.13       162\n",
      "           3       0.60      0.11      0.19       292\n",
      "           5       0.62      0.97      0.75       656\n",
      "\n",
      "    accuracy                           0.61      1110\n",
      "   macro avg       0.58      0.39      0.36      1110\n",
      "weighted avg       0.60      0.61      0.51      1110\n",
      "\n"
     ]
    }
   ],
   "source": [
    "# K Nearest Neighbour Algorithm\n",
    "from sklearn.neighbors import KNeighborsClassifier\n",
    "knn = KNeighborsClassifier(n_neighbors=10)\n",
    "knn.fit(x_train,y_train)\n",
    "predknn = knn.predict(x_test)\n",
    "print(\"Confusion Matrix for K Neighbors Classifier:\")\n",
    "print(confusion_matrix(y_test,predknn))\n",
    "print(\"Score: \",round(accuracy_score(y_test,predknn)*100,2))\n",
    "print(\"Classification Report:\")\n",
    "print(classification_report(y_test,predknn))"
   ]
  },
  {
   "cell_type": "code",
   "execution_count": 50,
   "id": "kOpDwZm3fSU4",
   "metadata": {
    "colab": {
     "base_uri": "https://localhost:8080/"
    },
    "id": "kOpDwZm3fSU4",
    "outputId": "16629955-f3eb-4580-a890-697d99492878"
   },
   "outputs": [
    {
     "name": "stdout",
     "output_type": "stream",
     "text": [
      "Confusion Matrix for Decision Tree:\n",
      "[[ 59  43  60]\n",
      " [ 27 148 117]\n",
      " [ 41  93 522]]\n",
      "Score: 65.68\n",
      "Classification Report:               precision    recall  f1-score   support\n",
      "\n",
      "           1       0.46      0.36      0.41       162\n",
      "           3       0.52      0.51      0.51       292\n",
      "           5       0.75      0.80      0.77       656\n",
      "\n",
      "    accuracy                           0.66      1110\n",
      "   macro avg       0.58      0.56      0.56      1110\n",
      "weighted avg       0.65      0.66      0.65      1110\n",
      "\n"
     ]
    }
   ],
   "source": [
    "# Decision Tree\n",
    "from sklearn.tree import DecisionTreeClassifier\n",
    "dt = DecisionTreeClassifier()\n",
    "dt.fit(x_train,y_train)\n",
    "preddt = dt.predict(x_test)\n",
    "print(\"Confusion Matrix for Decision Tree:\")\n",
    "print(confusion_matrix(y_test,preddt))\n",
    "print(\"Score:\",round(accuracy_score(y_test,preddt)*100,2))\n",
    "print(\"Classification Report:\",classification_report(y_test,preddt))"
   ]
  },
  {
   "cell_type": "code",
   "execution_count": 51,
   "id": "goMR_BpbfSMK",
   "metadata": {
    "colab": {
     "base_uri": "https://localhost:8080/"
    },
    "id": "goMR_BpbfSMK",
    "outputId": "0dc04313-5ded-4cb6-dc6c-79bebbcfa8cc"
   },
   "outputs": [
    {
     "name": "stdout",
     "output_type": "stream",
     "text": [
      "Confusion Matrix for Random Forest Classifier:\n",
      "[[ 29  32 101]\n",
      " [  2 105 185]\n",
      " [  0  14 642]]\n",
      "Score: 69.91\n",
      "Classification Report:               precision    recall  f1-score   support\n",
      "\n",
      "           1       0.94      0.18      0.30       162\n",
      "           3       0.70      0.36      0.47       292\n",
      "           5       0.69      0.98      0.81       656\n",
      "\n",
      "    accuracy                           0.70      1110\n",
      "   macro avg       0.77      0.51      0.53      1110\n",
      "weighted avg       0.73      0.70      0.65      1110\n",
      "\n"
     ]
    }
   ],
   "source": [
    "# Random Forest\n",
    "from sklearn.ensemble import RandomForestClassifier\n",
    "rmfr = RandomForestClassifier()\n",
    "rmfr.fit(x_train,y_train)\n",
    "predrmfr = rmfr.predict(x_test)\n",
    "print(\"Confusion Matrix for Random Forest Classifier:\")\n",
    "print(confusion_matrix(y_test,predrmfr))\n",
    "print(\"Score:\",round(accuracy_score(y_test,predrmfr)*100,2))\n",
    "print(\"Classification Report:\",classification_report(y_test,predrmfr))"
   ]
  },
  {
   "cell_type": "code",
   "execution_count": 52,
   "id": "8BTiLYYdfSEb",
   "metadata": {
    "colab": {
     "base_uri": "https://localhost:8080/"
    },
    "id": "8BTiLYYdfSEb",
    "outputId": "f24b376f-b669-4cf1-d743-2fac16124ee6"
   },
   "outputs": [
    {
     "name": "stdout",
     "output_type": "stream",
     "text": [
      "Confusion Matrix for Support Vector Machines:\n",
      "[[ 31  23 108]\n",
      " [  5 122 165]\n",
      " [  1  19 636]]\n",
      "Score: 71.08\n",
      "Classification Report:               precision    recall  f1-score   support\n",
      "\n",
      "           1       0.84      0.19      0.31       162\n",
      "           3       0.74      0.42      0.54       292\n",
      "           5       0.70      0.97      0.81       656\n",
      "\n",
      "    accuracy                           0.71      1110\n",
      "   macro avg       0.76      0.53      0.55      1110\n",
      "weighted avg       0.73      0.71      0.67      1110\n",
      "\n"
     ]
    }
   ],
   "source": [
    "# Support Vector Machine\n",
    "from sklearn.svm import SVC\n",
    "svm = SVC(random_state=101)\n",
    "svm.fit(x_train,y_train)\n",
    "predsvm = svm.predict(x_test)\n",
    "print(\"Confusion Matrix for Support Vector Machines:\")\n",
    "print(confusion_matrix(y_test,predsvm))\n",
    "print(\"Score:\",round(accuracy_score(y_test,predsvm)*100,2))\n",
    "print(\"Classification Report:\",classification_report(y_test,predsvm))"
   ]
  },
  {
   "cell_type": "code",
   "execution_count": 53,
   "id": "914ca14f",
   "metadata": {
    "colab": {
     "base_uri": "https://localhost:8080/"
    },
    "id": "914ca14f",
    "outputId": "c5f796fc-4067-4c7f-a7b5-aaaebd20b6c2"
   },
   "outputs": [
    {
     "name": "stdout",
     "output_type": "stream",
     "text": [
      "Confusion Matrix for Multinomial Naive Bayes:\n",
      "[[ 75  49  38]\n",
      " [  7 180 105]\n",
      " [ 12  45 599]]\n",
      "Score: 76.94\n",
      "Classification Report:               precision    recall  f1-score   support\n",
      "\n",
      "           1       0.80      0.46      0.59       162\n",
      "           3       0.66      0.62      0.64       292\n",
      "           5       0.81      0.91      0.86       656\n",
      "\n",
      "    accuracy                           0.77      1110\n",
      "   macro avg       0.75      0.66      0.69      1110\n",
      "weighted avg       0.77      0.77      0.76      1110\n",
      "\n"
     ]
    }
   ],
   "source": [
    "# Multinomial Naive Bayes\n",
    "from sklearn.naive_bayes import MultinomialNB\n",
    "mnb = MultinomialNB()\n",
    "mnb.fit(x_train,y_train)\n",
    "predmnb = mnb.predict(x_test)\n",
    "print(\"Confusion Matrix for Multinomial Naive Bayes:\")\n",
    "print(confusion_matrix(y_test,predmnb))\n",
    "print(\"Score:\",round(accuracy_score(y_test,predmnb)*100,2))\n",
    "print(\"Classification Report:\",classification_report(y_test,predmnb))"
   ]
  },
  {
   "cell_type": "code",
   "execution_count": 54,
   "id": "97ca2147",
   "metadata": {
    "colab": {
     "base_uri": "https://localhost:8080/"
    },
    "id": "97ca2147",
    "outputId": "229f2542-00ba-4ceb-f68a-b8fbb7437f65"
   },
   "outputs": [
    {
     "name": "stdout",
     "output_type": "stream",
     "text": [
      "Confusion Matrix for Multilayer Perceptron Classifier:\n",
      "[[ 91  35  36]\n",
      " [ 21 185  86]\n",
      " [ 13  56 587]]\n",
      "Score: 77.75\n",
      "Classification Report:\n",
      "              precision    recall  f1-score   support\n",
      "\n",
      "           1       0.73      0.56      0.63       162\n",
      "           3       0.67      0.63      0.65       292\n",
      "           5       0.83      0.89      0.86       656\n",
      "\n",
      "    accuracy                           0.78      1110\n",
      "   macro avg       0.74      0.70      0.72      1110\n",
      "weighted avg       0.77      0.78      0.77      1110\n",
      "\n"
     ]
    }
   ],
   "source": [
    "# MULTILAYER PERCEPTRON CLASSIFIER\n",
    "from sklearn.neural_network import MLPClassifier\n",
    "mlp = MLPClassifier()\n",
    "mlp.fit(x_train,y_train)\n",
    "predmlp = mlp.predict(x_test)\n",
    "print(\"Confusion Matrix for Multilayer Perceptron Classifier:\")\n",
    "print(confusion_matrix(y_test,predmlp))\n",
    "print(\"Score:\",round(accuracy_score(y_test,predmlp)*100,2))\n",
    "print(\"Classification Report:\")\n",
    "print(classification_report(y_test,predmlp))"
   ]
  },
  {
   "cell_type": "markdown",
   "id": "xKbsHw5ayh0f",
   "metadata": {
    "id": "xKbsHw5ayh0f"
   },
   "source": [
    "(14). Comparison between models\n"
   ]
  },
  {
   "cell_type": "code",
   "execution_count": 55,
   "id": "qQJ0JFCiyba1",
   "metadata": {
    "colab": {
     "base_uri": "https://localhost:8080/",
     "height": 910
    },
    "id": "qQJ0JFCiyba1",
    "outputId": "046c0df8-5946-4e58-d21c-c6f2661f407b"
   },
   "outputs": [
    {
     "data": {
      "text/plain": [
       "Text(0.5, 1.0, 'BAR PLOT - Models VS Accuracy')"
      ]
     },
     "execution_count": 55,
     "metadata": {},
     "output_type": "execute_result"
    },
    {
     "data": {
      "image/png": "[encoded data removed]",
      "text/plain": [
       "<Figure size 864x1080 with 1 Axes>"
      ]
     },
     "metadata": {
      "needs_background": "light"
     },
     "output_type": "display_data"
    }
   ],
   "source": [
    "knn_a = round(accuracy_score(y_test,predknn)*100,2)\n",
    "dt_a = round(accuracy_score(y_test,preddt)*100,2)\n",
    "rmfr_a = round(accuracy_score(y_test,predrmfr)*100,2)\n",
    "svm_a = round(accuracy_score(y_test,predsvm)*100,2)\n",
    "mnb_a = round(accuracy_score(y_test,predmnb)*100,2)\n",
    "mlp_a = round(accuracy_score(y_test,predmlp)*100,2)\n",
    "\n",
    "x = [ 'knn', 'dt', 'rmfr', 'svm', 'mnb', 'mlp']\n",
    "y = [ knn_a, dt_a, rmfr_a, svm_a, mnb_a, mlp_a]\n",
    "colors = ['red', 'blue', 'green', 'orange', 'purple']\n",
    "\n",
    "fig, ax = plt.subplots(figsize=(12, 15))\n",
    "\n",
    "plt.bar(x, y, color=colors)\n",
    "\n",
    "# ADDING LABLES AND TITLES\n",
    "plt.xlabel('Models')\n",
    "plt.ylabel('Accuracy')\n",
    "plt.title('BAR PLOT - Models VS Accuracy')\n"
   ]
  },
  {
   "cell_type": "markdown",
   "id": "zzrsS2O81sd0",
   "metadata": {
    "id": "zzrsS2O81sd0"
   },
   "source": [
    "* K Neighbor Classifier = 61.35%\n",
    "* Decision Tree = 66.58%\n",
    "* Random Forest Classifier = 69.91%\n",
    "* Support Vector Machine  = 71.08%\n",
    "* Multinomial Naive Bayes = 76.94%\n",
    "* Multilayer Perceptron = 77.75%\n"
   ]
  },
  {
   "cell_type": "markdown",
   "id": "Wordj7Xh1zMb",
   "metadata": {
    "id": "Wordj7Xh1zMb"
   },
   "source": [
    "Since multilayer perceptron classifier has the best score, let us use it to predict a random positive review, a random average review and a random negative review!"
   ]
  },
  {
   "cell_type": "markdown",
   "id": "jNpkv8gtf00m",
   "metadata": {
    "id": "jNpkv8gtf00m"
   },
   "source": [
    "(15). Rating Prediction on basis of review text."
   ]
  },
  {
   "cell_type": "code",
   "execution_count": 68,
   "id": "15642f6c",
   "metadata": {
    "colab": {
     "base_uri": "https://localhost:8080/"
    },
    "id": "15642f6c",
    "outputId": "2133c1f2-dcd4-4c70-81f2-7d37ef06eaae"
   },
   "outputs": [
    {
     "name": "stdout",
     "output_type": "stream",
     "text": [
      "4-5 locations.. all 4.5 star average.. I think Arizona really has some fantastic Pizza options, and Spinatos is at the top of my pizza fix list.. the semi sweet sauce is addictive, great service, fresh ingredients, The Spicy Italian is my favorite... The chocolate chips cookies are laced with mind altering drugs, that make your body parts\"romantic\" when you think of their cookies.. BTW 5:30pm, on a Tuesday, when we left, a 30 minute wait.. Its on the List..\n",
      "Actual Rating:  5\n",
      "Predicted Rating:\n"
     ]
    },
    {
     "data": {
      "text/plain": [
       "5"
      ]
     },
     "execution_count": 68,
     "metadata": {},
     "output_type": "execute_result"
    }
   ],
   "source": [
    "# POSITIVE REVIEW\n",
    "pr = data['text'][9999]\n",
    "print(pr)\n",
    "print(\"Actual Rating: \",data['stars'][9999])\n",
    "pr_t = vocab.transform([pr])\n",
    "print(\"Predicted Rating:\")\n",
    "mlp.predict(pr_t)[0]"
   ]
  },
  {
   "cell_type": "code",
   "execution_count": 72,
   "id": "1f74ae88",
   "metadata": {
    "colab": {
     "base_uri": "https://localhost:8080/"
    },
    "id": "1f74ae88",
    "outputId": "5b7234e3-1b86-43fc-9994-223712e90744"
   },
   "outputs": [
    {
     "name": "stdout",
     "output_type": "stream",
     "text": [
      "First visit...Had lunch here today - used my Groupon.  \n",
      "\n",
      "We ordered the Bruschetta, Pretzels and Steak & Cheese Calzone.\n",
      "\n",
      "-We both thought there was WAY too much Balsamic used.  Also, we expected mozzarella cheese - not Feta.\n",
      "\n",
      "-We tried the butter and salt pretzel & cinnamon sugar with honey pretzel.  They were okay. They should have kept the honey on the side like they did for the mustard.\n",
      "\n",
      "-The calzone was good. We liked the dough and it was fairly well filled/stuffed.\n",
      "\n",
      "Overall, we thought it was average as far as the food is concerned - and a little pricey for quality and portions.\n",
      "\n",
      "We have another Groupon to use so maybe we'll try a pizza for the next one.\n",
      "Actual Rating:  3\n",
      "Predicted Rating:\n"
     ]
    },
    {
     "data": {
      "text/plain": [
       "3"
      ]
     },
     "execution_count": 72,
     "metadata": {},
     "output_type": "execute_result"
    }
   ],
   "source": [
    "# AVERAGE REVIEW\n",
    "ar = data['text'][9995]\n",
    "print(ar)\n",
    "print(\"Actual Rating: \",data['stars'][9995])\n",
    "ar_t = vocab.transform([ar])\n",
    "print(\"Predicted Rating:\")\n",
    "mlp.predict(ar_t)[0]"
   ]
  },
  {
   "cell_type": "code",
   "execution_count": 58,
   "id": "34689e8f",
   "metadata": {
    "colab": {
     "base_uri": "https://localhost:8080/"
    },
    "id": "34689e8f",
    "outputId": "f401d90a-f789-4373-bfbb-56bd9c18662a"
   },
   "outputs": [
    {
     "name": "stdout",
     "output_type": "stream",
     "text": [
      "U can go there n check the car out. If u wanna buy 1 there? That's wrong move! If u even want a car service from there? U made a biggest mistake of ur life!! I had 1 time asked my girlfriend to take my car there for an oil service, guess what? They ripped my girlfriend off by lying how bad my car is now. If without fixing the problem. Might bring some serious accident. Then she did what they said. 4 brand new tires, timing belt, 4 new brake pads. U know why's the worst? All of those above I had just changed 2 months before!!! What a trashy dealer is that? People, better off go somewhere!\n",
      "Actual Rating:  1\n",
      "Predicted Rating:\n"
     ]
    },
    {
     "data": {
      "text/plain": [
       "1"
      ]
     },
     "execution_count": 58,
     "metadata": {},
     "output_type": "execute_result"
    }
   ],
   "source": [
    "# NEGATIVE REVIEW\n",
    "nr = data['text'][23]\n",
    "print(nr)\n",
    "print(\"Actual Rating: \",data['stars'][23])\n",
    "nr_t = vocab.transform([nr])\n",
    "print(\"Predicted Rating:\")\n",
    "mlp.predict(nr_t)[0]"
   ]
  }
 ],
 "metadata": {
  "colab": {
   "provenance": []
  },
  "kernelspec": {
   "display_name": "Python 3 (ipykernel)",
   "language": "python",
   "name": "python3"
  },
  "language_info": {
   "codemirror_mode": {
    "name": "ipython",
    "version": 3
   },
   "file_extension": ".py",
   "mimetype": "text/x-python",
   "name": "python",
   "nbconvert_exporter": "python",
   "pygments_lexer": "ipython3",
   "version": "3.6.2"
  }
 },
 "nbformat": 4,
 "nbformat_minor": 5
}
